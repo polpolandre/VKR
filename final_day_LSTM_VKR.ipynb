{
  "cells": [
    {
      "cell_type": "code",
      "execution_count": null,
      "metadata": {
        "id": "wyMO3PstgyDl"
      },
      "outputs": [],
      "source": [
        "import pandas as pd\n",
        "import numpy as np\n",
        "import seaborn as sn\n",
        "import matplotlib.pyplot as plt\n",
        "from sklearn.model_selection import train_test_split\n",
        "from sklearn.preprocessing import StandardScaler\n",
        "import tensorflow as tf\n",
        "import keras\n",
        "from keras import optimizers\n",
        "from keras.callbacks import History\n",
        "from keras.models import Model\n",
        "from keras.layers import Dense, Dropout, LSTM, Input, Activation, concatenate, Bidirectional, Layer\n",
        "from tensorflow.keras import optimizers\n",
        "from keras.models import Sequential\n",
        "import keras.backend as K\n",
        "from sklearn.metrics import mean_squared_error\n",
        "from sklearn.metrics import r2_score\n",
        "from sklearn.metrics import mean_absolute_error\n",
        "tf.random.set_seed(20)\n",
        "np.random.seed(10)"
      ]
    },
    {
      "cell_type": "code",
      "execution_count": null,
      "metadata": {
        "id": "gC1KsLKUYowk"
      },
      "outputs": [],
      "source": [
        "dataset = pd.read_excel('day2_final.xlsx')"
      ]
    },
    {
      "cell_type": "code",
      "execution_count": null,
      "metadata": {
        "colab": {
          "base_uri": "https://localhost:8080/"
        },
        "id": "DKiEITTGWerS",
        "outputId": "54e78e67-febd-4b1e-ba7a-029e31a6ec6a"
      },
      "outputs": [
        {
          "output_type": "stream",
          "name": "stderr",
          "text": [
            "/usr/local/lib/python3.7/dist-packages/ipykernel_launcher.py:1: SettingWithCopyWarning: \n",
            "A value is trying to be set on a copy of a slice from a DataFrame\n",
            "\n",
            "See the caveats in the documentation: https://pandas.pydata.org/pandas-docs/stable/user_guide/indexing.html#returning-a-view-versus-a-copy\n",
            "  \"\"\"Entry point for launching an IPython kernel.\n"
          ]
        }
      ],
      "source": [
        "dataset['VOL'][dataset['VOL'] == dataset['VOL'].max()] = np.NaN"
      ]
    },
    {
      "cell_type": "code",
      "execution_count": null,
      "metadata": {
        "id": "EC2gMqKxFPbZ"
      },
      "outputs": [],
      "source": [
        "dataset = dataset.fillna(method='backfill')"
      ]
    },
    {
      "cell_type": "code",
      "source": [
        "data = dataset[['VOL', 'sma_10', 'roc',\n",
        "       'stoch_k', 'cci', 'rsi', 'MACD_12_26',  'adi']]"
      ],
      "metadata": {
        "id": "9FGtI-gAsyI_"
      },
      "execution_count": null,
      "outputs": []
    },
    {
      "cell_type": "code",
      "execution_count": null,
      "metadata": {
        "id": "kSkdLJ8_FY_D"
      },
      "outputs": [],
      "source": [
        "data['OPEN'] = np.log(dataset['OPEN'])\n",
        "data['CLOSE'] = np.log(dataset['CLOSE'])\n",
        "data['CLOSE_lag'] = data['CLOSE'].shift(1)\n",
        "data['CLOSE_lag2'] = data['CLOSE'].shift(2)\n",
        "data['CLOSE_lag3'] = data['CLOSE'].shift(3)\n",
        "data['CLOSE_lag4'] = data['CLOSE'].shift(4)\n",
        "data['HIGH'] = np.log(dataset['HIGH'])\n",
        "data['LOW'] = np.log(dataset['LOW'])\n",
        "data['usdrub'] = np.log(dataset['usdrub'])\n",
        "data['brent'] = np.log(dataset['brent'])\n",
        "data['cac'] = np.log(dataset['cac'].astype('float64'))\n",
        "data['ftse'] = np.log(dataset['ftse'])\n",
        "data['dedow'] = np.log(dataset['dedow'])\n",
        "data['OPEN_diff'] = data['OPEN'].diff()\n",
        "data['CLOSE_diff'] = data['CLOSE'].diff()\n",
        "data['CLOSE_lag_diff'] = data['CLOSE_lag'].diff()\n",
        "data['CLOSE_lag_diff2'] = data['CLOSE_lag2'].diff()\n",
        "data['CLOSE_lag_diff3'] = data['CLOSE_lag3'].diff()\n",
        "data['CLOSE_lag_diff4'] = data['CLOSE_lag4'].diff()\n",
        "data['HIGH_diff'] = data['HIGH'].diff()\n",
        "data['LOW_diff'] = data['LOW'].diff()\n",
        "data['usd_diff'] = data['usdrub'].diff()\n",
        "data['brent_diff'] = data['brent'].diff()\n",
        "data['cac_diff'] = data['cac'].diff()\n",
        "data['ftse_diff'] = data['ftse'].diff()\n",
        "data['dedow_diff'] = data['dedow'].diff()"
      ]
    },
    {
      "cell_type": "code",
      "execution_count": null,
      "metadata": {
        "colab": {
          "base_uri": "https://localhost:8080/"
        },
        "id": "U5Gvoz0rYWQg",
        "outputId": "b410c61f-8613-4df6-9f93-4416c25d0844"
      },
      "outputs": [
        {
          "output_type": "execute_result",
          "data": {
            "text/plain": [
              "Index(['VOL', 'sma_10', 'roc', 'stoch_k', 'cci', 'rsi', 'MACD_12_26', 'adi',\n",
              "       'OPEN', 'CLOSE', 'CLOSE_lag', 'CLOSE_lag2', 'CLOSE_lag3', 'CLOSE_lag4',\n",
              "       'HIGH', 'LOW', 'usdrub', 'brent', 'cac', 'ftse', 'dedow', 'OPEN_diff',\n",
              "       'CLOSE_diff', 'CLOSE_lag_diff', 'CLOSE_lag_diff2', 'CLOSE_lag_diff3',\n",
              "       'CLOSE_lag_diff4', 'HIGH_diff', 'LOW_diff', 'usd_diff', 'brent_diff',\n",
              "       'cac_diff', 'ftse_diff', 'dedow_diff'],\n",
              "      dtype='object')"
            ]
          },
          "metadata": {},
          "execution_count": 7
        }
      ],
      "source": [
        "data.columns"
      ]
    },
    {
      "cell_type": "code",
      "execution_count": null,
      "metadata": {
        "id": "jI7ZYttHN1CU"
      },
      "outputs": [],
      "source": [
        "data = data[5:]"
      ]
    },
    {
      "cell_type": "code",
      "execution_count": null,
      "metadata": {
        "id": "PBoyIMtlnJo0"
      },
      "outputs": [],
      "source": [
        "X=data[['VOL', 'sma_10', 'roc', 'stoch_k', 'cci', 'rsi', 'MACD_12_26', 'adi',\n",
        "       'OPEN', 'CLOSE_lag', 'CLOSE_lag2', 'CLOSE_lag3', 'CLOSE_lag4',\n",
        "       'HIGH', 'LOW', 'usdrub', 'brent', 'cac', 'ftse', 'dedow', 'OPEN_diff',\n",
        "       'CLOSE_diff', 'CLOSE_lag_diff', 'CLOSE_lag_diff2', 'CLOSE_lag_diff3',\n",
        "       'CLOSE_lag_diff4', 'HIGH_diff', 'LOW_diff', 'usd_diff', 'brent_diff',\n",
        "       'cac_diff', 'ftse_diff', 'dedow_diff']]\n",
        "Y=data['CLOSE']"
      ]
    },
    {
      "cell_type": "code",
      "execution_count": null,
      "metadata": {
        "id": "hRQ4-kKGZQnJ"
      },
      "outputs": [],
      "source": [
        "X_train, X_test, Y_train, Y_test = train_test_split(X, Y, shuffle = False, test_size=0.2)"
      ]
    },
    {
      "cell_type": "code",
      "execution_count": null,
      "metadata": {
        "id": "d8AnspAVhwKt"
      },
      "outputs": [],
      "source": [
        "train_data=X_train\n",
        "train_data['CLOSE']=Y_train\n",
        "test_data=X_test\n",
        "test_data['CLOSE']=Y_test"
      ]
    },
    {
      "cell_type": "code",
      "execution_count": null,
      "metadata": {
        "id": "WNeH7QiFhPPw"
      },
      "outputs": [],
      "source": [
        "normaliser = StandardScaler()\n",
        "train_normalised_data = normaliser.fit_transform(train_data)\n",
        "test_normalised_data = normaliser.transform(test_data)"
      ]
    },
    {
      "cell_type": "code",
      "execution_count": null,
      "metadata": {
        "id": "6ngF0IkxhFOW"
      },
      "outputs": [],
      "source": [
        "history_points = 4\n",
        "X_train = np.array([train_normalised_data[i : i + history_points].copy() for i in range(len(train_normalised_data) - history_points)])\n",
        "y_train = np.array([train_normalised_data[:,-1][i + history_points].copy() for i in range(len(train_normalised_data) - history_points)])\n",
        "X_test = np.array([test_normalised_data[i : i + history_points].copy() for i in range(len(test_normalised_data) - history_points)])\n",
        "y_test = np.array([test_normalised_data[:,-1][i + history_points].copy() for i in range(len(test_normalised_data) - history_points)])"
      ]
    },
    {
      "cell_type": "code",
      "execution_count": null,
      "metadata": {
        "id": "4wI6LBEvgK2Z"
      },
      "outputs": [],
      "source": [
        "n_feats=X_train.shape[2]"
      ]
    },
    {
      "cell_type": "code",
      "execution_count": null,
      "metadata": {
        "id": "kjJ1mdDeqj1a"
      },
      "outputs": [],
      "source": [
        "class attention(Layer):\n",
        "    def __init__(self,**kwargs):\n",
        "        super(attention,self).__init__(**kwargs)\n",
        " \n",
        "    def build(self,input_shape):\n",
        "        self.W=self.add_weight(name='attention_weight', shape=(input_shape[-1],1), \n",
        "                               initializer='random_normal', trainable=True)\n",
        "        self.b=self.add_weight(name='attention_bias', shape=(input_shape[1],1), \n",
        "                               initializer='zeros', trainable=True)        \n",
        "        super(attention, self).build(input_shape)\n",
        " \n",
        "    def call(self,x):\n",
        "        # Alignment scores. Pass them through tanh function\n",
        "        e = K.tanh(K.dot(x,self.W)+self.b)\n",
        "        # Remove dimension of size 1\n",
        "        e = K.squeeze(e, axis=-1)   \n",
        "        # Compute the weights\n",
        "        alpha = K.softmax(e)\n",
        "        # Reshape to tensorFlow format\n",
        "        alpha = K.expand_dims(alpha, axis=-1)\n",
        "        # Compute the context vector\n",
        "        context = x * alpha\n",
        "        context = K.sum(context, axis=1)\n",
        "        return context"
      ]
    },
    {
      "cell_type": "code",
      "source": [
        "def create_RNN_with_attention(hidden_units, dense_units, input_shape, activation):\n",
        "    x=Input(shape=input_shape)\n",
        "    RNN_layer1 = Bidirectional(LSTM(hidden_units, return_sequences=np.True_, dropout=0.2))(x)\n",
        "    outputs=Dense(dense_units, trainable=True, activation=activation)(RNN_layer1)\n",
        "    model=Model(x,outputs)\n",
        "    sgd = optimizers.SGD(learning_rate=0.01, nesterov=True)\n",
        "    model.compile(loss='mse', optimizer=sgd)    \n",
        "    return model    \n",
        " \n",
        "model_attention = create_RNN_with_attention(hidden_units=4096, dense_units=1, \n",
        "                                  input_shape= (4, 34), activation='relu')"
      ],
      "metadata": {
        "id": "zg2YrlHE8qkP"
      },
      "execution_count": null,
      "outputs": []
    },
    {
      "cell_type": "code",
      "execution_count": null,
      "metadata": {
        "colab": {
          "base_uri": "https://localhost:8080/"
        },
        "id": "oKyolPf0Hn7V",
        "outputId": "d24fe870-507c-4a4b-e2c5-27e34f2faea9"
      },
      "outputs": [
        {
          "output_type": "stream",
          "name": "stdout",
          "text": [
            "39/39 [==============================] - 9s 122ms/step - loss: 0.8815 - val_loss: 2.0848\n"
          ]
        },
        {
          "output_type": "execute_result",
          "data": {
            "text/plain": [
              "<keras.callbacks.History at 0x7fc63ffa1150>"
            ]
          },
          "metadata": {},
          "execution_count": 17
        }
      ],
      "source": [
        "model_attention.fit(X_train, y_train, epochs = 1, batch_size = 64, shuffle=True, validation_split = 0.1) #36"
      ]
    },
    {
      "cell_type": "code",
      "source": [
        "def create_RNN_with_attention(hidden_units, dense_units, input_shape, activation):\n",
        "    x=Input(shape=input_shape)\n",
        "    RNN_layer1 = Bidirectional(LSTM(hidden_units, return_sequences=np.True_, dropout=0.2))(x)\n",
        "    attention_layer = attention()(RNN_layer1)\n",
        "    outputs=Dense(dense_units, trainable=True, activation=activation)(attention_layer)\n",
        "    model=Model(x,outputs)\n",
        "    sgd = optimizers.SGD(learning_rate=0.01, nesterov=True)\n",
        "    model.compile(loss='mse', optimizer=sgd)    \n",
        "    return model    \n",
        " \n",
        "model_attention = create_RNN_with_attention(hidden_units=4096, dense_units=1, \n",
        "                                  input_shape= (4, 34), activation='relu')"
      ],
      "metadata": {
        "id": "6wXCZhFP6Sc9"
      },
      "execution_count": null,
      "outputs": []
    },
    {
      "cell_type": "code",
      "source": [
        "model_attention.summary()"
      ],
      "metadata": {
        "colab": {
          "base_uri": "https://localhost:8080/"
        },
        "id": "Mu08crHW6ktc",
        "outputId": "28a0080c-7324-4739-883e-c62473682dc5"
      },
      "execution_count": null,
      "outputs": [
        {
          "output_type": "stream",
          "name": "stdout",
          "text": [
            "Model: \"model\"\n",
            "_________________________________________________________________\n",
            " Layer (type)                Output Shape              Param #   \n",
            "=================================================================\n",
            " input_2 (InputLayer)        [(None, 4, 34)]           0         \n",
            "                                                                 \n",
            " bidirectional_1 (Bidirectio  (None, 4, 8192)          135364608 \n",
            " nal)                                                            \n",
            "                                                                 \n",
            " attention (attention)       (None, 8192)              8196      \n",
            "                                                                 \n",
            " dense (Dense)               (None, 1)                 8193      \n",
            "                                                                 \n",
            "=================================================================\n",
            "Total params: 135,380,997\n",
            "Trainable params: 135,380,997\n",
            "Non-trainable params: 0\n",
            "_________________________________________________________________\n"
          ]
        }
      ]
    },
    {
      "cell_type": "code",
      "execution_count": null,
      "metadata": {
        "id": "dhPttf6UhFXh"
      },
      "outputs": [],
      "source": [
        "### Основная\n",
        "def create_RNN_with_attention(hidden_units, dense_units, input_shape, activation):\n",
        "    x=Input(shape=input_shape)\n",
        "    RNN_layer1 = Bidirectional(LSTM(hidden_units, return_sequences=np.True_, dropout=0.2))(x)\n",
        "    attention_layer = attention()(RNN_layer1)\n",
        "    outputs=Dense(dense_units, trainable=True, activation=activation)(attention_layer)\n",
        "    model=Model(x,outputs)\n",
        "    sgd = optimizers.SGD(learning_rate=0.01, nesterov=True)\n",
        "    model.compile(loss='mse', optimizer=sgd)    \n",
        "    return model    \n",
        " \n",
        "model_attention = create_RNN_with_attention(hidden_units=4096, dense_units=1, \n",
        "                                  input_shape= (history_points, n_feats), activation='relu')"
      ]
    },
    {
      "cell_type": "code",
      "execution_count": null,
      "metadata": {
        "id": "bQm6NcU8o2YP"
      },
      "outputs": [],
      "source": [
        "y_pred = model_attention.predict(X_test, batch_size = 64)"
      ]
    },
    {
      "cell_type": "code",
      "execution_count": null,
      "metadata": {
        "id": "8vlbPcHXDMHf",
        "colab": {
          "base_uri": "https://localhost:8080/"
        },
        "outputId": "ad583def-6830-47fb-da04-b39eea5eeb79"
      },
      "outputs": [
        {
          "output_type": "execute_result",
          "data": {
            "text/plain": [
              "-18.82887005169089"
            ]
          },
          "metadata": {},
          "execution_count": 19
        }
      ],
      "source": [
        "r2_score(y_test, y_pred[:,0])"
      ]
    },
    {
      "cell_type": "code",
      "source": [
        ""
      ],
      "metadata": {
        "id": "Zt-N43xvBfPN"
      },
      "execution_count": null,
      "outputs": []
    },
    {
      "cell_type": "markdown",
      "source": [
        "одна лстм 0.963789498012317"
      ],
      "metadata": {
        "id": "8jxGKlOgBgBo"
      }
    },
    {
      "cell_type": "markdown",
      "metadata": {
        "id": "wL88uc-JLLZP"
      },
      "source": [
        "0.9985052184237352 2 слоя, 10 эпох"
      ]
    },
    {
      "cell_type": "markdown",
      "source": [
        "0.9988358864383952, e=17"
      ],
      "metadata": {
        "id": "l2WeSYozdURt"
      }
    },
    {
      "cell_type": "markdown",
      "metadata": {
        "id": "2CnCPVQqT9sO"
      },
      "source": [
        "Epoch 8/20\n",
        "1467/1467 [==============================] - 402s 274ms/step - loss: 0.6764 - val_loss: 2.7466e-04\n",
        "2 слоя\n"
      ]
    },
    {
      "cell_type": "markdown",
      "source": [
        "1 слой\n",
        "\n",
        "\n",
        "[ ]\n",
        "model_attention.fit(X_train, y_train, epochs = 30, batch_size = 16, shuffle=True, validation_split = 0.1) #36\n",
        "Epoch 1/30\n",
        "1467/1467 [==============================] - 119s 79ms/step - loss: 0.6787 - val_loss: 3.1101e-04\n",
        "Epoch 2/30\n",
        "1467/1467 [==============================] - 115s 78ms/step - loss: 0.6765 - val_loss: 2.2937e-04\n",
        "Epoch 3/30\n",
        "1467/1467 [==============================] - 120s 82ms/step - loss: 0.6764 - val_loss: 2.2036e-04\n",
        "Epoch 4/30\n",
        "1467/1467 [==============================] - 115s 78ms/step - loss: 0.6765 - val_loss: 2.9331e-04\n",
        "Epoch 5/30\n",
        "1467/1467 [==============================] - 115s 78ms/step - loss: 0.6765 - val_loss: 2.7359e-04\n",
        "Epoch 6/30\n",
        "1467/1467 [==============================] - 120s 82ms/step - loss: 0.6764 - val_loss: 3.7130e-04\n",
        "Epoch 7/30\n",
        "1467/1467 [==============================] - 120s 82ms/step - loss: 0.6765 - val_loss: 2.4782e-04\n",
        "Epoch 8/30\n",
        "1467/1467 [==============================] - 115s 78ms/step - loss: 0.6764 - val_loss: 2.3836e-04\n",
        "Epoch 9/30\n",
        "1467/1467 [==============================] - 115s 78ms/step - loss: 0.6765 - val_loss: 2.9644e-04\n",
        "Epoch 10/30\n",
        "1467/1467 [==============================] - 115s 78ms/step - loss: 0.6764 - val_loss: 3.4685e-04\n",
        "Epoch 11/30\n",
        "1467/1467 [==============================] - 120s 82ms/step - loss: 0.6764 - val_loss: 3.7837e-04\n",
        "Epoch 12/30\n",
        "1467/1467 [==============================] - 115s 78ms/step - loss: 0.6764 - val_loss: 3.5202e-04\n",
        "Epoch 13/30\n",
        "1467/1467 [==============================] - 120s 82ms/step - loss: 0.6764 - val_loss: 1.9014e-04\n",
        "Epoch 14/30\n",
        "1467/1467 [==============================] - 115s 78ms/step - loss: 0.6764 - val_loss: 6.0173e-04\n",
        "Epoch 15/30\n",
        "1467/1467 [==============================] - 115s 78ms/step - loss: 0.6764 - val_loss: 2.0644e-04\n",
        "Epoch 16/30\n",
        "1467/1467 [==============================] - 115s 78ms/step - loss: 0.6764 - val_loss: 2.2221e-04\n",
        "Epoch 17/30\n",
        "1467/1467 [==============================] - 120s 82ms/step - loss: 0.6765 - val_loss: 1.8249e-04\n",
        "Epoch 18/30\n",
        "1467/1467 [==============================] - 120s 82ms/step - loss: 0.6764 - val_loss: 2.7812e-04\n",
        "Epoch 19/30\n",
        "1467/1467 [==============================] - 120s 81ms/step - loss: 0.6764 - val_loss: 2.9005e-04\n",
        "Epoch 20/30\n",
        "1467/1467 [==============================] - 120s 82ms/step - loss: 0.6764 - val_loss: 1.9832e-04\n",
        "Epoch 21/30\n",
        "1467/1467 [==============================] - 120s 82ms/step - loss: 0.6765 - val_loss: 1.8457e-04\n",
        "Epoch 22/30\n",
        "1467/1467 [==============================] - 120s 82ms/step - loss: 0.6764 - val_loss: 2.3690e-04\n",
        "Epoch 23/30\n",
        "1467/1467 [==============================] - 120s 82ms/step - loss: 0.6764 - val_loss: 2.0100e-04\n",
        "Epoch 24/30\n",
        "1467/1467 [==============================] - 116s 79ms/step - loss: 0.6765 - val_loss: 2.6441e-04\n",
        "Epoch 25/30\n",
        "1467/1467 [==============================] - 116s 79ms/step - loss: 0.6764 - val_loss: 3.7662e-04\n",
        "Epoch 26/30\n",
        "1467/1467 [==============================] - 116s 79ms/step - loss: 0.6765 - val_loss: 1.9328e-04\n",
        "Epoch 27/30\n",
        "1467/1467 [==============================] - 116s 79ms/step - loss: 0.6764 - val_loss: 2.0109e-04\n",
        "Epoch 28/30\n",
        "1467/1467 [==============================] - 116s 79ms/step - loss: 0.6765 - val_loss: 1.9849e-04\n",
        "Epoch 29/30\n",
        "1467/1467 [==============================] - 121s 82ms/step - loss: 0.6764 - val_loss: 1.9826e-04\n",
        "Epoch 30/30\n",
        "1467/1467 [==============================] - 116s 79ms/step - loss: 0.6764 - val_loss: 3.9444e-04"
      ],
      "metadata": {
        "id": "1ZsjtaCZEzCJ"
      }
    },
    {
      "cell_type": "code",
      "execution_count": null,
      "metadata": {
        "id": "2HNEpKazHzkL"
      },
      "outputs": [],
      "source": [
        "normaliser_y = StandardScaler()\n",
        "Y_train_n = normaliser_y.fit_transform(np.array(Y_train).reshape(-1, 1))\n",
        "y_test_n = normaliser_y.transform(np.array(y_test).reshape(-1, 1))"
      ]
    },
    {
      "cell_type": "code",
      "execution_count": null,
      "metadata": {
        "id": "r2UGJkNHpjO5"
      },
      "outputs": [],
      "source": [
        "y_pred_n = normaliser_y.inverse_transform(y_pred.reshape(-1, 1))"
      ]
    },
    {
      "cell_type": "code",
      "execution_count": null,
      "metadata": {
        "id": "DFgWZngMIaBW",
        "colab": {
          "base_uri": "https://localhost:8080/"
        },
        "outputId": "5c45b9e5-8d4b-431c-e169-bc75ddaf3d4b"
      },
      "outputs": [
        {
          "output_type": "execute_result",
          "data": {
            "text/plain": [
              "0.9928676535015659"
            ]
          },
          "metadata": {},
          "execution_count": 22
        }
      ],
      "source": [
        "r2_score(np.exp(Y_test)[4:], np.exp(y_pred_n))"
      ]
    },
    {
      "cell_type": "code",
      "source": [
        "yyy = pd.DataFrame(np.exp(y_pred_n))"
      ],
      "metadata": {
        "id": "E_nI1H04Tjir"
      },
      "execution_count": null,
      "outputs": []
    },
    {
      "cell_type": "code",
      "source": [
        "yyy.to_csv('y_pred_lstm_99.csv')"
      ],
      "metadata": {
        "id": "KVHBoRKpTqzt"
      },
      "execution_count": null,
      "outputs": []
    },
    {
      "cell_type": "code",
      "source": [
        "yyy['0']"
      ],
      "metadata": {
        "colab": {
          "base_uri": "https://localhost:8080/",
          "height": 320
        },
        "id": "NtnL13LvUEgZ",
        "outputId": "1e6b70ba-c1a0-4853-a9fd-db04c3e95d15"
      },
      "execution_count": null,
      "outputs": [
        {
          "output_type": "error",
          "ename": "KeyError",
          "evalue": "ignored",
          "traceback": [
            "\u001b[0;31m---------------------------------------------------------------------------\u001b[0m",
            "\u001b[0;31mKeyError\u001b[0m                                  Traceback (most recent call last)",
            "\u001b[0;32m<ipython-input-33-774bd592b317>\u001b[0m in \u001b[0;36m<module>\u001b[0;34m()\u001b[0m\n\u001b[0;32m----> 1\u001b[0;31m \u001b[0myyy\u001b[0m\u001b[0;34m[\u001b[0m\u001b[0;34m'0'\u001b[0m\u001b[0;34m]\u001b[0m\u001b[0;34m\u001b[0m\u001b[0;34m\u001b[0m\u001b[0m\n\u001b[0m",
            "\u001b[0;32m/usr/local/lib/python3.7/dist-packages/pandas/core/frame.py\u001b[0m in \u001b[0;36m__getitem__\u001b[0;34m(self, key)\u001b[0m\n\u001b[1;32m   3456\u001b[0m             \u001b[0;32mif\u001b[0m \u001b[0mself\u001b[0m\u001b[0;34m.\u001b[0m\u001b[0mcolumns\u001b[0m\u001b[0;34m.\u001b[0m\u001b[0mnlevels\u001b[0m \u001b[0;34m>\u001b[0m \u001b[0;36m1\u001b[0m\u001b[0;34m:\u001b[0m\u001b[0;34m\u001b[0m\u001b[0;34m\u001b[0m\u001b[0m\n\u001b[1;32m   3457\u001b[0m                 \u001b[0;32mreturn\u001b[0m \u001b[0mself\u001b[0m\u001b[0;34m.\u001b[0m\u001b[0m_getitem_multilevel\u001b[0m\u001b[0;34m(\u001b[0m\u001b[0mkey\u001b[0m\u001b[0;34m)\u001b[0m\u001b[0;34m\u001b[0m\u001b[0;34m\u001b[0m\u001b[0m\n\u001b[0;32m-> 3458\u001b[0;31m             \u001b[0mindexer\u001b[0m \u001b[0;34m=\u001b[0m \u001b[0mself\u001b[0m\u001b[0;34m.\u001b[0m\u001b[0mcolumns\u001b[0m\u001b[0;34m.\u001b[0m\u001b[0mget_loc\u001b[0m\u001b[0;34m(\u001b[0m\u001b[0mkey\u001b[0m\u001b[0;34m)\u001b[0m\u001b[0;34m\u001b[0m\u001b[0;34m\u001b[0m\u001b[0m\n\u001b[0m\u001b[1;32m   3459\u001b[0m             \u001b[0;32mif\u001b[0m \u001b[0mis_integer\u001b[0m\u001b[0;34m(\u001b[0m\u001b[0mindexer\u001b[0m\u001b[0;34m)\u001b[0m\u001b[0;34m:\u001b[0m\u001b[0;34m\u001b[0m\u001b[0;34m\u001b[0m\u001b[0m\n\u001b[1;32m   3460\u001b[0m                 \u001b[0mindexer\u001b[0m \u001b[0;34m=\u001b[0m \u001b[0;34m[\u001b[0m\u001b[0mindexer\u001b[0m\u001b[0;34m]\u001b[0m\u001b[0;34m\u001b[0m\u001b[0;34m\u001b[0m\u001b[0m\n",
            "\u001b[0;32m/usr/local/lib/python3.7/dist-packages/pandas/core/indexes/range.py\u001b[0m in \u001b[0;36mget_loc\u001b[0;34m(self, key, method, tolerance)\u001b[0m\n\u001b[1;32m    386\u001b[0m                 \u001b[0;32mexcept\u001b[0m \u001b[0mValueError\u001b[0m \u001b[0;32mas\u001b[0m \u001b[0merr\u001b[0m\u001b[0;34m:\u001b[0m\u001b[0;34m\u001b[0m\u001b[0;34m\u001b[0m\u001b[0m\n\u001b[1;32m    387\u001b[0m                     \u001b[0;32mraise\u001b[0m \u001b[0mKeyError\u001b[0m\u001b[0;34m(\u001b[0m\u001b[0mkey\u001b[0m\u001b[0;34m)\u001b[0m \u001b[0;32mfrom\u001b[0m \u001b[0merr\u001b[0m\u001b[0;34m\u001b[0m\u001b[0;34m\u001b[0m\u001b[0m\n\u001b[0;32m--> 388\u001b[0;31m             \u001b[0;32mraise\u001b[0m \u001b[0mKeyError\u001b[0m\u001b[0;34m(\u001b[0m\u001b[0mkey\u001b[0m\u001b[0;34m)\u001b[0m\u001b[0;34m\u001b[0m\u001b[0;34m\u001b[0m\u001b[0m\n\u001b[0m\u001b[1;32m    389\u001b[0m         \u001b[0;32mreturn\u001b[0m \u001b[0msuper\u001b[0m\u001b[0;34m(\u001b[0m\u001b[0;34m)\u001b[0m\u001b[0;34m.\u001b[0m\u001b[0mget_loc\u001b[0m\u001b[0;34m(\u001b[0m\u001b[0mkey\u001b[0m\u001b[0;34m,\u001b[0m \u001b[0mmethod\u001b[0m\u001b[0;34m=\u001b[0m\u001b[0mmethod\u001b[0m\u001b[0;34m,\u001b[0m \u001b[0mtolerance\u001b[0m\u001b[0;34m=\u001b[0m\u001b[0mtolerance\u001b[0m\u001b[0;34m)\u001b[0m\u001b[0;34m\u001b[0m\u001b[0;34m\u001b[0m\u001b[0m\n\u001b[1;32m    390\u001b[0m \u001b[0;34m\u001b[0m\u001b[0m\n",
            "\u001b[0;31mKeyError\u001b[0m: '0'"
          ]
        }
      ]
    },
    {
      "cell_type": "code",
      "execution_count": null,
      "metadata": {
        "id": "LoIrrI4Npn_m"
      },
      "outputs": [],
      "source": [
        "def mean_absolute_percentage_error(actual, prediction):\n",
        "    actual = pd.Series(actual)\n",
        "    prediction = pd.Series(prediction)\n",
        "    return 100 * np.mean(np.abs((actual - prediction))/actual)"
      ]
    },
    {
      "cell_type": "code",
      "execution_count": null,
      "metadata": {
        "id": "a9C8jF7-poDD"
      },
      "outputs": [],
      "source": [
        "mse = mean_squared_error(dataset['CLOSE'][-686:], yyy)\n",
        "rmse = mse ** 0.5\n",
        "mape = mean_absolute_percentage_error(dataset['CLOSE'][-686:], np.exp(y_pred_n).reshape(-1))\n",
        "r2 = r2_score(dataset['CLOSE'][-686:], yyy)\n",
        "mae = mean_absolute_error(dataset['CLOSE'][-686:], yyy)"
      ]
    },
    {
      "cell_type": "code",
      "execution_count": null,
      "metadata": {
        "id": "k1yvD25ap3e1",
        "colab": {
          "base_uri": "https://localhost:8080/"
        },
        "outputId": "f88f4b56-1597-43d7-ea99-636a3c4cd3ce"
      },
      "outputs": [
        {
          "output_type": "execute_result",
          "data": {
            "text/plain": [
              "1823.1414886070318"
            ]
          },
          "metadata": {},
          "execution_count": 36
        }
      ],
      "source": [
        "mse"
      ]
    },
    {
      "cell_type": "code",
      "execution_count": null,
      "metadata": {
        "id": "Eki9IpusqhEx",
        "colab": {
          "base_uri": "https://localhost:8080/"
        },
        "outputId": "cd704eac-0f24-42e9-e200-2c1b2f221db5"
      },
      "outputs": [
        {
          "output_type": "execute_result",
          "data": {
            "text/plain": [
              "42.698260955301585"
            ]
          },
          "metadata": {},
          "execution_count": 37
        }
      ],
      "source": [
        "rmse"
      ]
    },
    {
      "cell_type": "code",
      "execution_count": null,
      "metadata": {
        "id": "7evy7qT-qhH1",
        "colab": {
          "base_uri": "https://localhost:8080/"
        },
        "outputId": "e19112b1-fd2c-4a0f-e9a8-661cb0b64c98"
      },
      "outputs": [
        {
          "output_type": "execute_result",
          "data": {
            "text/plain": [
              "1.0315701055868152"
            ]
          },
          "metadata": {},
          "execution_count": 40
        }
      ],
      "source": [
        "100 * np.mean(np.abs((dataset['CLOSE'][-686:] - np.exp(y_pred_n).reshape(-1)))/dataset['CLOSE'][-686:])"
      ]
    },
    {
      "cell_type": "code",
      "execution_count": null,
      "metadata": {
        "id": "DSvRaLNaqhLM",
        "colab": {
          "base_uri": "https://localhost:8080/"
        },
        "outputId": "9d4680c9-6993-41bf-817f-ccc8eb0c98de"
      },
      "outputs": [
        {
          "output_type": "execute_result",
          "data": {
            "text/plain": [
              "0.9928676535015659"
            ]
          },
          "metadata": {},
          "execution_count": 39
        }
      ],
      "source": [
        "r2"
      ]
    },
    {
      "cell_type": "code",
      "source": [
        "mae"
      ],
      "metadata": {
        "colab": {
          "base_uri": "https://localhost:8080/"
        },
        "id": "pBDLAZFOUr0V",
        "outputId": "eceb8bf7-a1a0-42f3-8cd5-f535cd6664ce"
      },
      "execution_count": null,
      "outputs": [
        {
          "output_type": "execute_result",
          "data": {
            "text/plain": [
              "31.91232177022594"
            ]
          },
          "metadata": {},
          "execution_count": 41
        }
      ]
    },
    {
      "cell_type": "code",
      "source": [
        "mse = mean_squared_error(dataset['CLOSE'].diff()[-685:], np.zeros(685))\n",
        "rmse = mse ** 0.5\n",
        "r2 = r2_score(dataset['CLOSE'].diff()[-685:], np.zeros(685))\n",
        "mae = mean_absolute_error(dataset['CLOSE'].diff()[-685:], np.zeros(685))"
      ],
      "metadata": {
        "id": "6cHuoiFDU4Ir"
      },
      "execution_count": null,
      "outputs": []
    },
    {
      "cell_type": "code",
      "source": [
        "mape = mean_absolute_percentage_error(dataset['CLOSE'].diff()[-685:], np.zeros(685))"
      ],
      "metadata": {
        "id": "UIrdUUhvVq80"
      },
      "execution_count": null,
      "outputs": []
    },
    {
      "cell_type": "code",
      "source": [
        ""
      ],
      "metadata": {
        "id": "1UHc_mdxWphz"
      },
      "execution_count": null,
      "outputs": []
    },
    {
      "cell_type": "code",
      "source": [
        "mse"
      ],
      "metadata": {
        "colab": {
          "base_uri": "https://localhost:8080/"
        },
        "id": "kIoBDvtAVJ92",
        "outputId": "eea43343-5e0c-448d-9b3c-4d975960a980"
      },
      "execution_count": null,
      "outputs": [
        {
          "output_type": "execute_result",
          "data": {
            "text/plain": [
              "1195.010621605839"
            ]
          },
          "metadata": {},
          "execution_count": 124
        }
      ]
    },
    {
      "cell_type": "code",
      "source": [
        "rmse"
      ],
      "metadata": {
        "colab": {
          "base_uri": "https://localhost:8080/"
        },
        "id": "WnZn7XRLVLoQ",
        "outputId": "aacf2f36-651c-4340-a94b-c2fee5dba56e"
      },
      "execution_count": null,
      "outputs": [
        {
          "output_type": "execute_result",
          "data": {
            "text/plain": [
              "34.56892566461734"
            ]
          },
          "metadata": {},
          "execution_count": 125
        }
      ]
    },
    {
      "cell_type": "code",
      "source": [
        "r2"
      ],
      "metadata": {
        "colab": {
          "base_uri": "https://localhost:8080/"
        },
        "id": "AOhqCdT_VLqb",
        "outputId": "b4c22c94-d648-4e82-9838-1e7c124a5b85"
      },
      "execution_count": null,
      "outputs": [
        {
          "output_type": "execute_result",
          "data": {
            "text/plain": [
              "-0.003777465711201522"
            ]
          },
          "metadata": {},
          "execution_count": 126
        }
      ]
    },
    {
      "cell_type": "code",
      "source": [
        "mae"
      ],
      "metadata": {
        "colab": {
          "base_uri": "https://localhost:8080/"
        },
        "id": "gk3H2hLHVLt2",
        "outputId": "34731cfc-2691-495f-fe49-a22df061d47c"
      },
      "execution_count": null,
      "outputs": [
        {
          "output_type": "execute_result",
          "data": {
            "text/plain": [
              "24.86163503649634"
            ]
          },
          "metadata": {},
          "execution_count": 127
        }
      ]
    },
    {
      "cell_type": "code",
      "execution_count": null,
      "metadata": {
        "id": "KGCFn-PTIGnq",
        "colab": {
          "base_uri": "https://localhost:8080/",
          "height": 241
        },
        "outputId": "d35bbdd9-4d76-4613-ac65-6d7e4cf1c252"
      },
      "outputs": [
        {
          "output_type": "error",
          "ename": "NameError",
          "evalue": "ignored",
          "traceback": [
            "\u001b[0;31m---------------------------------------------------------------------------\u001b[0m",
            "\u001b[0;31mNameError\u001b[0m                                 Traceback (most recent call last)",
            "\u001b[0;32m<ipython-input-48-9005c70a9b00>\u001b[0m in \u001b[0;36m<module>\u001b[0;34m()\u001b[0m\n\u001b[1;32m      1\u001b[0m \u001b[0minput_layer\u001b[0m \u001b[0;34m=\u001b[0m \u001b[0mInput\u001b[0m\u001b[0;34m(\u001b[0m\u001b[0mshape\u001b[0m\u001b[0;34m=\u001b[0m\u001b[0;34m(\u001b[0m\u001b[0mhistory_points\u001b[0m\u001b[0;34m,\u001b[0m \u001b[0mn_feats\u001b[0m\u001b[0;34m)\u001b[0m\u001b[0;34m)\u001b[0m\u001b[0;34m\u001b[0m\u001b[0;34m\u001b[0m\u001b[0m\n\u001b[0;32m----> 2\u001b[0;31m conv1 = Conv1D(filters=64,\n\u001b[0m\u001b[1;32m      3\u001b[0m                \u001b[0mkernel_size\u001b[0m\u001b[0;34m=\u001b[0m\u001b[0;36m8\u001b[0m\u001b[0;34m,\u001b[0m\u001b[0;34m\u001b[0m\u001b[0;34m\u001b[0m\u001b[0m\n\u001b[1;32m      4\u001b[0m                \u001b[0mstrides\u001b[0m\u001b[0;34m=\u001b[0m\u001b[0;36m1\u001b[0m\u001b[0;34m,\u001b[0m\u001b[0;34m\u001b[0m\u001b[0;34m\u001b[0m\u001b[0m\n\u001b[1;32m      5\u001b[0m                \u001b[0mactivation\u001b[0m\u001b[0;34m=\u001b[0m\u001b[0;34m'relu'\u001b[0m\u001b[0;34m,\u001b[0m\u001b[0;34m\u001b[0m\u001b[0;34m\u001b[0m\u001b[0m\n",
            "\u001b[0;31mNameError\u001b[0m: name 'Conv1D' is not defined"
          ]
        }
      ],
      "source": [
        "input_layer = Input(shape=(history_points, n_feats))\n",
        "conv1 = Conv1D(filters=64,\n",
        "               kernel_size=8,\n",
        "               strides=1,\n",
        "               activation='relu',\n",
        "               padding='same')(input_layer)\n",
        "lstm1 = LSTM(64, return_sequences=True, dropout=0.05)(conv1)\n",
        "output_layer = Dense(1, activation='relu')(lstm1)\n",
        "model = Model(inputs=input_layer, outputs=output_layer)\n",
        "\n",
        "sgd = optimizers.SGD(lr=0.05, nesterov=True)\n",
        "model.compile(loss='mse', optimizer='sgd')"
      ]
    },
    {
      "cell_type": "code",
      "source": [
        "yyyy=yyy.diff()[1:]"
      ],
      "metadata": {
        "id": "Pm699QjaXEb0"
      },
      "execution_count": null,
      "outputs": []
    },
    {
      "cell_type": "code",
      "source": [
        "yyyy"
      ],
      "metadata": {
        "colab": {
          "base_uri": "https://localhost:8080/",
          "height": 424
        },
        "id": "CRucwi_SXLdG",
        "outputId": "91850771-000f-421b-8105-66f22b1edb4a"
      },
      "execution_count": null,
      "outputs": [
        {
          "output_type": "execute_result",
          "data": {
            "text/plain": [
              "              0\n",
              "1      9.517578\n",
              "2     13.788086\n",
              "3      3.727783\n",
              "4      5.615723\n",
              "5    -18.963623\n",
              "..          ...\n",
              "681   58.323242\n",
              "682   -5.973877\n",
              "683 -122.288086\n",
              "684   62.102051\n",
              "685  -35.027832\n",
              "\n",
              "[685 rows x 1 columns]"
            ],
            "text/html": [
              "\n",
              "  <div id=\"df-116d3433-6ecd-4461-84fe-ed2417451ec8\">\n",
              "    <div class=\"colab-df-container\">\n",
              "      <div>\n",
              "<style scoped>\n",
              "    .dataframe tbody tr th:only-of-type {\n",
              "        vertical-align: middle;\n",
              "    }\n",
              "\n",
              "    .dataframe tbody tr th {\n",
              "        vertical-align: top;\n",
              "    }\n",
              "\n",
              "    .dataframe thead th {\n",
              "        text-align: right;\n",
              "    }\n",
              "</style>\n",
              "<table border=\"1\" class=\"dataframe\">\n",
              "  <thead>\n",
              "    <tr style=\"text-align: right;\">\n",
              "      <th></th>\n",
              "      <th>0</th>\n",
              "    </tr>\n",
              "  </thead>\n",
              "  <tbody>\n",
              "    <tr>\n",
              "      <th>1</th>\n",
              "      <td>9.517578</td>\n",
              "    </tr>\n",
              "    <tr>\n",
              "      <th>2</th>\n",
              "      <td>13.788086</td>\n",
              "    </tr>\n",
              "    <tr>\n",
              "      <th>3</th>\n",
              "      <td>3.727783</td>\n",
              "    </tr>\n",
              "    <tr>\n",
              "      <th>4</th>\n",
              "      <td>5.615723</td>\n",
              "    </tr>\n",
              "    <tr>\n",
              "      <th>5</th>\n",
              "      <td>-18.963623</td>\n",
              "    </tr>\n",
              "    <tr>\n",
              "      <th>...</th>\n",
              "      <td>...</td>\n",
              "    </tr>\n",
              "    <tr>\n",
              "      <th>681</th>\n",
              "      <td>58.323242</td>\n",
              "    </tr>\n",
              "    <tr>\n",
              "      <th>682</th>\n",
              "      <td>-5.973877</td>\n",
              "    </tr>\n",
              "    <tr>\n",
              "      <th>683</th>\n",
              "      <td>-122.288086</td>\n",
              "    </tr>\n",
              "    <tr>\n",
              "      <th>684</th>\n",
              "      <td>62.102051</td>\n",
              "    </tr>\n",
              "    <tr>\n",
              "      <th>685</th>\n",
              "      <td>-35.027832</td>\n",
              "    </tr>\n",
              "  </tbody>\n",
              "</table>\n",
              "<p>685 rows × 1 columns</p>\n",
              "</div>\n",
              "      <button class=\"colab-df-convert\" onclick=\"convertToInteractive('df-116d3433-6ecd-4461-84fe-ed2417451ec8')\"\n",
              "              title=\"Convert this dataframe to an interactive table.\"\n",
              "              style=\"display:none;\">\n",
              "        \n",
              "  <svg xmlns=\"http://www.w3.org/2000/svg\" height=\"24px\"viewBox=\"0 0 24 24\"\n",
              "       width=\"24px\">\n",
              "    <path d=\"M0 0h24v24H0V0z\" fill=\"none\"/>\n",
              "    <path d=\"M18.56 5.44l.94 2.06.94-2.06 2.06-.94-2.06-.94-.94-2.06-.94 2.06-2.06.94zm-11 1L8.5 8.5l.94-2.06 2.06-.94-2.06-.94L8.5 2.5l-.94 2.06-2.06.94zm10 10l.94 2.06.94-2.06 2.06-.94-2.06-.94-.94-2.06-.94 2.06-2.06.94z\"/><path d=\"M17.41 7.96l-1.37-1.37c-.4-.4-.92-.59-1.43-.59-.52 0-1.04.2-1.43.59L10.3 9.45l-7.72 7.72c-.78.78-.78 2.05 0 2.83L4 21.41c.39.39.9.59 1.41.59.51 0 1.02-.2 1.41-.59l7.78-7.78 2.81-2.81c.8-.78.8-2.07 0-2.86zM5.41 20L4 18.59l7.72-7.72 1.47 1.35L5.41 20z\"/>\n",
              "  </svg>\n",
              "      </button>\n",
              "      \n",
              "  <style>\n",
              "    .colab-df-container {\n",
              "      display:flex;\n",
              "      flex-wrap:wrap;\n",
              "      gap: 12px;\n",
              "    }\n",
              "\n",
              "    .colab-df-convert {\n",
              "      background-color: #E8F0FE;\n",
              "      border: none;\n",
              "      border-radius: 50%;\n",
              "      cursor: pointer;\n",
              "      display: none;\n",
              "      fill: #1967D2;\n",
              "      height: 32px;\n",
              "      padding: 0 0 0 0;\n",
              "      width: 32px;\n",
              "    }\n",
              "\n",
              "    .colab-df-convert:hover {\n",
              "      background-color: #E2EBFA;\n",
              "      box-shadow: 0px 1px 2px rgba(60, 64, 67, 0.3), 0px 1px 3px 1px rgba(60, 64, 67, 0.15);\n",
              "      fill: #174EA6;\n",
              "    }\n",
              "\n",
              "    [theme=dark] .colab-df-convert {\n",
              "      background-color: #3B4455;\n",
              "      fill: #D2E3FC;\n",
              "    }\n",
              "\n",
              "    [theme=dark] .colab-df-convert:hover {\n",
              "      background-color: #434B5C;\n",
              "      box-shadow: 0px 1px 3px 1px rgba(0, 0, 0, 0.15);\n",
              "      filter: drop-shadow(0px 1px 2px rgba(0, 0, 0, 0.3));\n",
              "      fill: #FFFFFF;\n",
              "    }\n",
              "  </style>\n",
              "\n",
              "      <script>\n",
              "        const buttonEl =\n",
              "          document.querySelector('#df-116d3433-6ecd-4461-84fe-ed2417451ec8 button.colab-df-convert');\n",
              "        buttonEl.style.display =\n",
              "          google.colab.kernel.accessAllowed ? 'block' : 'none';\n",
              "\n",
              "        async function convertToInteractive(key) {\n",
              "          const element = document.querySelector('#df-116d3433-6ecd-4461-84fe-ed2417451ec8');\n",
              "          const dataTable =\n",
              "            await google.colab.kernel.invokeFunction('convertToInteractive',\n",
              "                                                     [key], {});\n",
              "          if (!dataTable) return;\n",
              "\n",
              "          const docLinkHtml = 'Like what you see? Visit the ' +\n",
              "            '<a target=\"_blank\" href=https://colab.research.google.com/notebooks/data_table.ipynb>data table notebook</a>'\n",
              "            + ' to learn more about interactive tables.';\n",
              "          element.innerHTML = '';\n",
              "          dataTable['output_type'] = 'display_data';\n",
              "          await google.colab.output.renderOutput(dataTable, element);\n",
              "          const docLink = document.createElement('div');\n",
              "          docLink.innerHTML = docLinkHtml;\n",
              "          element.appendChild(docLink);\n",
              "        }\n",
              "      </script>\n",
              "    </div>\n",
              "  </div>\n",
              "  "
            ]
          },
          "metadata": {},
          "execution_count": 81
        }
      ]
    },
    {
      "cell_type": "code",
      "source": [
        "Y_test_ = np.exp(Y_test).diff()"
      ],
      "metadata": {
        "id": "jZstxiwUXRNP"
      },
      "execution_count": null,
      "outputs": []
    },
    {
      "cell_type": "code",
      "source": [
        "Y_test_n = np.exp(Y_test)"
      ],
      "metadata": {
        "id": "mPBY8Tl9XZfs"
      },
      "execution_count": null,
      "outputs": []
    },
    {
      "cell_type": "code",
      "source": [
        "Y_test_n"
      ],
      "metadata": {
        "colab": {
          "base_uri": "https://localhost:8080/"
        },
        "id": "kAV4903LZkDq",
        "outputId": "b0256710-eabc-4a4b-8eae-ced64046ed23"
      },
      "execution_count": null,
      "outputs": [
        {
          "output_type": "execute_result",
          "data": {
            "text/plain": [
              "2765    2468.25\n",
              "2766    2470.61\n",
              "2767    2457.79\n",
              "2768    2476.73\n",
              "2769    2483.70\n",
              "         ...   \n",
              "3450    3947.82\n",
              "3451    3843.05\n",
              "3452    3923.58\n",
              "3453    3890.59\n",
              "3454    3936.34\n",
              "Name: CLOSE, Length: 690, dtype: float64"
            ]
          },
          "metadata": {},
          "execution_count": 86
        }
      ]
    },
    {
      "cell_type": "code",
      "source": [
        "np.exp(Y_test[-685:])"
      ],
      "metadata": {
        "colab": {
          "base_uri": "https://localhost:8080/"
        },
        "id": "4mSF7OO8Xuow",
        "outputId": "b37e5eec-7d94-419b-f64b-dd3d559d5859"
      },
      "execution_count": null,
      "outputs": [
        {
          "output_type": "execute_result",
          "data": {
            "text/plain": [
              "2770    2493.28\n",
              "2771    2504.23\n",
              "2772    2507.81\n",
              "2773    2492.70\n",
              "2774    2497.59\n",
              "         ...   \n",
              "3450    3947.82\n",
              "3451    3843.05\n",
              "3452    3923.58\n",
              "3453    3890.59\n",
              "3454    3936.34\n",
              "Name: CLOSE, Length: 685, dtype: float64"
            ]
          },
          "metadata": {},
          "execution_count": 67
        }
      ]
    },
    {
      "cell_type": "code",
      "source": [
        "yyy[0]"
      ],
      "metadata": {
        "colab": {
          "base_uri": "https://localhost:8080/"
        },
        "id": "EgOk0ky0YJII",
        "outputId": "143bb81c-b19e-46bf-e3c9-ce118ea5f234"
      },
      "execution_count": null,
      "outputs": [
        {
          "output_type": "execute_result",
          "data": {
            "text/plain": [
              "0      2470.983887\n",
              "1      2480.501465\n",
              "2      2494.289551\n",
              "3      2498.017334\n",
              "4      2503.633057\n",
              "          ...     \n",
              "681    3947.497314\n",
              "682    3941.523438\n",
              "683    3819.235352\n",
              "684    3881.337402\n",
              "685    3846.309570\n",
              "Name: 0, Length: 686, dtype: float32"
            ]
          },
          "metadata": {},
          "execution_count": 77
        }
      ]
    },
    {
      "cell_type": "code",
      "source": [
        "Y_test_n"
      ],
      "metadata": {
        "colab": {
          "base_uri": "https://localhost:8080/"
        },
        "id": "tjY_dXZPYz57",
        "outputId": "8a8a2991-f145-45c7-889d-ed38809b7d2b"
      },
      "execution_count": null,
      "outputs": [
        {
          "output_type": "execute_result",
          "data": {
            "text/plain": [
              "2765    2468.25\n",
              "2766    2470.61\n",
              "2767    2457.79\n",
              "2768    2476.73\n",
              "2769    2483.70\n",
              "         ...   \n",
              "3450    3947.82\n",
              "3451    3843.05\n",
              "3452    3923.58\n",
              "3453    3890.59\n",
              "3454    3936.34\n",
              "Name: CLOSE, Length: 690, dtype: float64"
            ]
          },
          "metadata": {},
          "execution_count": 104
        }
      ]
    },
    {
      "cell_type": "code",
      "source": [
        "profit = 0\n",
        "profit_hist = []\n",
        "profitability = 0\n",
        "profitability_hist = []\n",
        "for i in range(1,685):\n",
        "  if yyyy[0][i] > 0:\n",
        "    profit += Y_test_[i+2769]\n",
        "    profit_hist.append(profit)\n",
        "    profitability += Y_test_[i+2769]/Y_test_n[i+2768]\n",
        "    profitability_hist.append(Y_test_[i+2769]/Y_test_n[i+2768])\n",
        "  if yyyy[0][i] < 0:\n",
        "    profit -= Y_test_[i+2769]\n",
        "    profit_hist.append(profit)\n",
        "    profitability -= Y_test_[i+2769]/Y_test_n[i+2768]\n",
        "    profitability_hist.append(Y_test_[i+2769]/Y_test_n[i+2768])"
      ],
      "metadata": {
        "id": "cHSuzaEYVNk_"
      },
      "execution_count": null,
      "outputs": []
    },
    {
      "cell_type": "code",
      "source": [
        "profitability"
      ],
      "metadata": {
        "colab": {
          "base_uri": "https://localhost:8080/"
        },
        "id": "yX_-cGAoYGZW",
        "outputId": "f5a49b90-9a5b-45e2-e588-85c37b5ad452"
      },
      "execution_count": null,
      "outputs": [
        {
          "output_type": "execute_result",
          "data": {
            "text/plain": [
              "0.3749000579498917"
            ]
          },
          "metadata": {},
          "execution_count": 115
        }
      ]
    },
    {
      "cell_type": "code",
      "source": [
        "np.mean(profitability_hist)*100"
      ],
      "metadata": {
        "colab": {
          "base_uri": "https://localhost:8080/"
        },
        "id": "7xyRSvGsYveO",
        "outputId": "dac2019a-4e6b-4234-9b84-a5939d178bc4"
      },
      "execution_count": null,
      "outputs": [
        {
          "output_type": "execute_result",
          "data": {
            "text/plain": [
              "0.07272425534915485"
            ]
          },
          "metadata": {},
          "execution_count": 120
        }
      ]
    },
    {
      "cell_type": "code",
      "source": [
        "np.std(profitability_hist)*100"
      ],
      "metadata": {
        "colab": {
          "base_uri": "https://localhost:8080/"
        },
        "id": "4u7hcor6aEDr",
        "outputId": "9786e6bc-9cda-400c-eaa0-18ebd63e53b6"
      },
      "execution_count": null,
      "outputs": [
        {
          "output_type": "execute_result",
          "data": {
            "text/plain": [
              "1.1871868948995505"
            ]
          },
          "metadata": {},
          "execution_count": 95
        }
      ]
    },
    {
      "cell_type": "code",
      "source": [
        "profitability_hist = pd.DataFrame(profitability_hist)"
      ],
      "metadata": {
        "id": "_--avqxianrE"
      },
      "execution_count": null,
      "outputs": []
    },
    {
      "cell_type": "code",
      "source": [
        "profitability_hist"
      ],
      "metadata": {
        "colab": {
          "base_uri": "https://localhost:8080/",
          "height": 424
        },
        "id": "nRcArVPwa3_V",
        "outputId": "76d8cfbc-344d-437b-c9b5-03308b1d774f"
      },
      "execution_count": null,
      "outputs": [
        {
          "output_type": "execute_result",
          "data": {
            "text/plain": [
              "            0\n",
              "0    0.003857\n",
              "1    0.004392\n",
              "2    0.001430\n",
              "3   -0.006025\n",
              "4    0.001962\n",
              "..        ...\n",
              "679  0.009571\n",
              "680 -0.003058\n",
              "681 -0.026539\n",
              "682  0.020955\n",
              "683 -0.008408\n",
              "\n",
              "[684 rows x 1 columns]"
            ],
            "text/html": [
              "\n",
              "  <div id=\"df-84ee1617-4af7-4172-a411-47fd034ce5c0\">\n",
              "    <div class=\"colab-df-container\">\n",
              "      <div>\n",
              "<style scoped>\n",
              "    .dataframe tbody tr th:only-of-type {\n",
              "        vertical-align: middle;\n",
              "    }\n",
              "\n",
              "    .dataframe tbody tr th {\n",
              "        vertical-align: top;\n",
              "    }\n",
              "\n",
              "    .dataframe thead th {\n",
              "        text-align: right;\n",
              "    }\n",
              "</style>\n",
              "<table border=\"1\" class=\"dataframe\">\n",
              "  <thead>\n",
              "    <tr style=\"text-align: right;\">\n",
              "      <th></th>\n",
              "      <th>0</th>\n",
              "    </tr>\n",
              "  </thead>\n",
              "  <tbody>\n",
              "    <tr>\n",
              "      <th>0</th>\n",
              "      <td>0.003857</td>\n",
              "    </tr>\n",
              "    <tr>\n",
              "      <th>1</th>\n",
              "      <td>0.004392</td>\n",
              "    </tr>\n",
              "    <tr>\n",
              "      <th>2</th>\n",
              "      <td>0.001430</td>\n",
              "    </tr>\n",
              "    <tr>\n",
              "      <th>3</th>\n",
              "      <td>-0.006025</td>\n",
              "    </tr>\n",
              "    <tr>\n",
              "      <th>4</th>\n",
              "      <td>0.001962</td>\n",
              "    </tr>\n",
              "    <tr>\n",
              "      <th>...</th>\n",
              "      <td>...</td>\n",
              "    </tr>\n",
              "    <tr>\n",
              "      <th>679</th>\n",
              "      <td>0.009571</td>\n",
              "    </tr>\n",
              "    <tr>\n",
              "      <th>680</th>\n",
              "      <td>-0.003058</td>\n",
              "    </tr>\n",
              "    <tr>\n",
              "      <th>681</th>\n",
              "      <td>-0.026539</td>\n",
              "    </tr>\n",
              "    <tr>\n",
              "      <th>682</th>\n",
              "      <td>0.020955</td>\n",
              "    </tr>\n",
              "    <tr>\n",
              "      <th>683</th>\n",
              "      <td>-0.008408</td>\n",
              "    </tr>\n",
              "  </tbody>\n",
              "</table>\n",
              "<p>684 rows × 1 columns</p>\n",
              "</div>\n",
              "      <button class=\"colab-df-convert\" onclick=\"convertToInteractive('df-84ee1617-4af7-4172-a411-47fd034ce5c0')\"\n",
              "              title=\"Convert this dataframe to an interactive table.\"\n",
              "              style=\"display:none;\">\n",
              "        \n",
              "  <svg xmlns=\"http://www.w3.org/2000/svg\" height=\"24px\"viewBox=\"0 0 24 24\"\n",
              "       width=\"24px\">\n",
              "    <path d=\"M0 0h24v24H0V0z\" fill=\"none\"/>\n",
              "    <path d=\"M18.56 5.44l.94 2.06.94-2.06 2.06-.94-2.06-.94-.94-2.06-.94 2.06-2.06.94zm-11 1L8.5 8.5l.94-2.06 2.06-.94-2.06-.94L8.5 2.5l-.94 2.06-2.06.94zm10 10l.94 2.06.94-2.06 2.06-.94-2.06-.94-.94-2.06-.94 2.06-2.06.94z\"/><path d=\"M17.41 7.96l-1.37-1.37c-.4-.4-.92-.59-1.43-.59-.52 0-1.04.2-1.43.59L10.3 9.45l-7.72 7.72c-.78.78-.78 2.05 0 2.83L4 21.41c.39.39.9.59 1.41.59.51 0 1.02-.2 1.41-.59l7.78-7.78 2.81-2.81c.8-.78.8-2.07 0-2.86zM5.41 20L4 18.59l7.72-7.72 1.47 1.35L5.41 20z\"/>\n",
              "  </svg>\n",
              "      </button>\n",
              "      \n",
              "  <style>\n",
              "    .colab-df-container {\n",
              "      display:flex;\n",
              "      flex-wrap:wrap;\n",
              "      gap: 12px;\n",
              "    }\n",
              "\n",
              "    .colab-df-convert {\n",
              "      background-color: #E8F0FE;\n",
              "      border: none;\n",
              "      border-radius: 50%;\n",
              "      cursor: pointer;\n",
              "      display: none;\n",
              "      fill: #1967D2;\n",
              "      height: 32px;\n",
              "      padding: 0 0 0 0;\n",
              "      width: 32px;\n",
              "    }\n",
              "\n",
              "    .colab-df-convert:hover {\n",
              "      background-color: #E2EBFA;\n",
              "      box-shadow: 0px 1px 2px rgba(60, 64, 67, 0.3), 0px 1px 3px 1px rgba(60, 64, 67, 0.15);\n",
              "      fill: #174EA6;\n",
              "    }\n",
              "\n",
              "    [theme=dark] .colab-df-convert {\n",
              "      background-color: #3B4455;\n",
              "      fill: #D2E3FC;\n",
              "    }\n",
              "\n",
              "    [theme=dark] .colab-df-convert:hover {\n",
              "      background-color: #434B5C;\n",
              "      box-shadow: 0px 1px 3px 1px rgba(0, 0, 0, 0.15);\n",
              "      filter: drop-shadow(0px 1px 2px rgba(0, 0, 0, 0.3));\n",
              "      fill: #FFFFFF;\n",
              "    }\n",
              "  </style>\n",
              "\n",
              "      <script>\n",
              "        const buttonEl =\n",
              "          document.querySelector('#df-84ee1617-4af7-4172-a411-47fd034ce5c0 button.colab-df-convert');\n",
              "        buttonEl.style.display =\n",
              "          google.colab.kernel.accessAllowed ? 'block' : 'none';\n",
              "\n",
              "        async function convertToInteractive(key) {\n",
              "          const element = document.querySelector('#df-84ee1617-4af7-4172-a411-47fd034ce5c0');\n",
              "          const dataTable =\n",
              "            await google.colab.kernel.invokeFunction('convertToInteractive',\n",
              "                                                     [key], {});\n",
              "          if (!dataTable) return;\n",
              "\n",
              "          const docLinkHtml = 'Like what you see? Visit the ' +\n",
              "            '<a target=\"_blank\" href=https://colab.research.google.com/notebooks/data_table.ipynb>data table notebook</a>'\n",
              "            + ' to learn more about interactive tables.';\n",
              "          element.innerHTML = '';\n",
              "          dataTable['output_type'] = 'display_data';\n",
              "          await google.colab.output.renderOutput(dataTable, element);\n",
              "          const docLink = document.createElement('div');\n",
              "          docLink.innerHTML = docLinkHtml;\n",
              "          element.appendChild(docLink);\n",
              "        }\n",
              "      </script>\n",
              "    </div>\n",
              "  </div>\n",
              "  "
            ]
          },
          "metadata": {},
          "execution_count": 102
        }
      ]
    },
    {
      "cell_type": "code",
      "source": [
        "len(profitability_hist[profitability_hist[0]>0])*100/684"
      ],
      "metadata": {
        "colab": {
          "base_uri": "https://localhost:8080/"
        },
        "id": "puoLOA7DaRh_",
        "outputId": "ba3476df-f14b-4ad3-a503-d3cd4ac6eec7"
      },
      "execution_count": null,
      "outputs": [
        {
          "output_type": "execute_result",
          "data": {
            "text/plain": [
              "56.14035087719298"
            ]
          },
          "metadata": {},
          "execution_count": 103
        }
      ]
    },
    {
      "cell_type": "code",
      "source": [
        "len(profitability_hist)"
      ],
      "metadata": {
        "colab": {
          "base_uri": "https://localhost:8080/"
        },
        "id": "VBc5luMgadDE",
        "outputId": "c53c4c26-2eb7-48c7-c32a-6c1c61f70720"
      },
      "execution_count": null,
      "outputs": [
        {
          "output_type": "execute_result",
          "data": {
            "text/plain": [
              "684"
            ]
          },
          "metadata": {},
          "execution_count": 96
        }
      ]
    },
    {
      "cell_type": "code",
      "source": [
        ""
      ],
      "metadata": {
        "id": "et_CtrsnafMH"
      },
      "execution_count": null,
      "outputs": []
    }
  ],
  "metadata": {
    "accelerator": "GPU",
    "colab": {
      "collapsed_sections": [],
      "name": "final_day_LSTM_VKR.ipynb",
      "provenance": []
    },
    "kernelspec": {
      "display_name": "Python 3",
      "name": "python3"
    },
    "language_info": {
      "name": "python"
    }
  },
  "nbformat": 4,
  "nbformat_minor": 0
}