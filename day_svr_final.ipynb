{
  "nbformat": 4,
  "nbformat_minor": 0,
  "metadata": {
    "colab": {
      "name": "day_svr_final.ipynb",
      "provenance": [],
      "collapsed_sections": []
    },
    "kernelspec": {
      "name": "python3",
      "display_name": "Python 3"
    },
    "language_info": {
      "name": "python"
    }
  },
  "cells": [
    {
      "cell_type": "code",
      "execution_count": null,
      "metadata": {
        "id": "UgskQmBCjrzf"
      },
      "outputs": [],
      "source": [
        "from sklearn.svm import LinearSVR\n",
        "from sklearn.svm import SVR\n",
        "from sklearn.pipeline import Pipeline\n",
        "from sklearn.preprocessing import StandardScaler\n",
        "from sklearn.datasets import make_regression\n",
        "import pandas as pd\n",
        "import numpy as np\n",
        "from sklearn.model_selection import train_test_split\n",
        "from sklearn.metrics import mean_squared_error\n",
        "from sklearn.metrics import r2_score\n",
        "from sklearn.metrics import mean_absolute_error"
      ]
    },
    {
      "cell_type": "code",
      "source": [
        "def mean_absolute_percentage_error(actual, prediction):\n",
        "    actual = pd.Series(actual)\n",
        "    prediction = pd.Series(prediction)\n",
        "    return 100 * np.mean(np.abs((actual - prediction))/actual)"
      ],
      "metadata": {
        "id": "2zOZKNU_kALC"
      },
      "execution_count": null,
      "outputs": []
    },
    {
      "cell_type": "code",
      "source": [
        "dataset = pd.read_excel('day2_final.xlsx')\n",
        "dataset['VOL'][dataset['VOL'] == dataset['VOL'].max()] = np.NaN\n",
        "dataset=dataset.fillna(method='backfill')"
      ],
      "metadata": {
        "id": "OCjhImS9j2Lf"
      },
      "execution_count": null,
      "outputs": []
    },
    {
      "cell_type": "code",
      "source": [
        "data = dataset[['CLOSE','VOL', 'sma_10', 'roc',\n",
        "       'stoch_k', 'cci', 'rsi', 'MACD_12_26', 'adi']]\n",
        "# data['OPEN'] = np.log(dataset['OPEN'])\n",
        "# data['HIGH'] = np.log(dataset['HIGH'])\n",
        "# data['LOW'] = np.log(dataset['LOW'])\n",
        "# data['usdrub'] = np.log(dataset['usdrub'])\n",
        "# data['brent'] = np.log(dataset['brent'])\n",
        "# data['cac'] = np.log(dataset['cac'].astype('float64'))\n",
        "# data['ftse'] = np.log(dataset['ftse'])\n",
        "# data['dedow'] = np.log(dataset['dedow'])\n",
        "data['OPEN'] = dataset['OPEN'].diff()\n",
        "data['HIGH'] = dataset['HIGH'].diff()\n",
        "data['LOW'] = dataset['LOW'].diff()\n",
        "data['usdrub'] = dataset['usdrub'].diff()\n",
        "data['brent'] = dataset['brent'].diff()\n",
        "data['cac'] = dataset['cac'].diff()\n",
        "data['ftse'] = dataset['ftse'].diff()\n",
        "data['dedow'] = dataset['dedow'].diff()\n",
        "# data['CLOSE_lag'] = dataset['CLOSE'].shift(1)\n",
        "# data['CLOSE_lag_'] = data['CLOSE_lag'].diff()"
      ],
      "metadata": {
        "id": "hwZupcUfnR06"
      },
      "execution_count": null,
      "outputs": []
    },
    {
      "cell_type": "code",
      "source": [
        "data['ret'] = dataset['CLOSE'].diff()"
      ],
      "metadata": {
        "id": "QCEmnpxk36mb"
      },
      "execution_count": null,
      "outputs": []
    },
    {
      "cell_type": "code",
      "source": [
        "data['ret_lag'] = data['ret'].shift(1)"
      ],
      "metadata": {
        "id": "Jj26v2yU3_0x"
      },
      "execution_count": null,
      "outputs": []
    },
    {
      "cell_type": "code",
      "source": [
        "data = data[2:]"
      ],
      "metadata": {
        "id": "ZRvnT6f12LyR"
      },
      "execution_count": null,
      "outputs": []
    },
    {
      "cell_type": "code",
      "source": [
        "X=data[['OPEN', 'HIGH', 'LOW', 'VOL', 'brent',\n",
        "       'usdrub', 'sma_10', 'roc', 'stoch_k', 'cci', 'rsi', 'MACD_12_26', 'adi',\n",
        "       'cac', 'ftse', 'dedow', 'ret_lag']]\n",
        "Y=data['ret']"
      ],
      "metadata": {
        "id": "zQkVI4xvj2O2"
      },
      "execution_count": null,
      "outputs": []
    },
    {
      "cell_type": "code",
      "source": [
        "X_train, X_test, Y_train, Y_test = train_test_split(X, Y, shuffle = False, test_size=0.2)"
      ],
      "metadata": {
        "id": "sFJMs5wAkJjG"
      },
      "execution_count": null,
      "outputs": []
    },
    {
      "cell_type": "code",
      "source": [
        "X_train.shape"
      ],
      "metadata": {
        "colab": {
          "base_uri": "https://localhost:8080/"
        },
        "id": "3hHz7bRK7dkl",
        "outputId": "0fc692f7-108b-4611-801b-e662548344f7"
      },
      "execution_count": null,
      "outputs": [
        {
          "output_type": "execute_result",
          "data": {
            "text/plain": [
              "(2762, 17)"
            ]
          },
          "metadata": {},
          "execution_count": 311
        }
      ]
    },
    {
      "cell_type": "code",
      "source": [
        "regr = Pipeline([('std', StandardScaler()),\n",
        "                      ('svr', LinearSVR(C=0.07, epsilon=0, random_state=1))])\n",
        "regr.fit(X_train, Y_train)"
      ],
      "metadata": {
        "colab": {
          "base_uri": "https://localhost:8080/"
        },
        "id": "j47yS9nykJmt",
        "outputId": "3f99b7d6-194d-47cc-b0d2-56f8f051fe20"
      },
      "execution_count": null,
      "outputs": [
        {
          "output_type": "execute_result",
          "data": {
            "text/plain": [
              "Pipeline(steps=[('std', StandardScaler()),\n",
              "                ('svr', LinearSVR(C=0.07, epsilon=0, random_state=1))])"
            ]
          },
          "metadata": {},
          "execution_count": 63
        }
      ]
    },
    {
      "cell_type": "code",
      "source": [
        "df=pd.DataFrame()"
      ],
      "metadata": {
        "id": "5Q4zk4wol6Ts"
      },
      "execution_count": null,
      "outputs": []
    },
    {
      "cell_type": "code",
      "source": [
        "df['Weight'] = regr.named_steps['svr'].coef_"
      ],
      "metadata": {
        "id": "oKbGW2Vhl9Ri"
      },
      "execution_count": null,
      "outputs": []
    },
    {
      "cell_type": "code",
      "source": [
        "df['Variable'] = X_train.columns"
      ],
      "metadata": {
        "id": "Sskaeb-ZjaDR"
      },
      "execution_count": null,
      "outputs": []
    },
    {
      "cell_type": "code",
      "source": [
        "df.sort_values('Weight', inplace=True)"
      ],
      "metadata": {
        "id": "pYamjshElYMi"
      },
      "execution_count": null,
      "outputs": []
    },
    {
      "cell_type": "code",
      "source": [
        "df.reset_index(inplace=True, drop=True)"
      ],
      "metadata": {
        "id": "GDDDoeXrm9Ww"
      },
      "execution_count": null,
      "outputs": []
    },
    {
      "cell_type": "code",
      "source": [
        "import matplotlib.pyplot as plt"
      ],
      "metadata": {
        "id": "IWmh8va4mbkA"
      },
      "execution_count": null,
      "outputs": []
    },
    {
      "cell_type": "code",
      "source": [
        "fig, ax = plt.subplots(figsize=(16,5), facecolor='white', dpi= 80)\n",
        "\n",
        "plt.axhline(y=0, color='gray', linestyle='-', linewidth=0.3)\n",
        "\n",
        "ax.vlines(x=df.index, ymin=0, ymax=df.Weight, color='lightsteelblue', alpha=0.7, linewidth=20)\n",
        "\n",
        "# Annotate Text\n",
        "for i, Weight in enumerate(df.Weight):\n",
        "    ax.text(i, Weight+0.5, round(Weight, 1), horizontalalignment='center')\n",
        "\n",
        "\n",
        "# Title, Label, Ticks and Ylim\n",
        "ax.set(ylabel='Вес переменных', ylim=(-10, 13))\n",
        "plt.xticks(df.index, df.Variable.str.upper(), rotation=60, horizontalalignment='right', fontsize=12)\n",
        "\n",
        "plt.show()"
      ],
      "metadata": {
        "colab": {
          "base_uri": "https://localhost:8080/",
          "height": 349
        },
        "id": "_-_tu0hLmPOr",
        "outputId": "b7dcec39-64d4-4360-86ec-b90eb861d10e"
      },
      "execution_count": null,
      "outputs": [
        {
          "output_type": "display_data",
          "data": {
            "text/plain": [
              "<Figure size 1280x400 with 1 Axes>"
            ],
            "image/png": "[encoded data removed]"
          },
          "metadata": {}
        }
      ]
    },
    {
      "cell_type": "markdown",
      "source": [
        "regr = make_pipeline(StandardScaler(), LinearSVR(C=0.11, epsilon=0, random_state=1))\n",
        "regr.fit(X_train, Y_train)"
      ],
      "metadata": {
        "id": "lGf50vTN2YzW"
      }
    },
    {
      "cell_type": "code",
      "source": [
        "y_pred = regr.predict(X_test)"
      ],
      "metadata": {
        "id": "8NtEuXCultBq"
      },
      "execution_count": null,
      "outputs": []
    },
    {
      "cell_type": "code",
      "source": [
        "r2_score(Y_test, y_pred)"
      ],
      "metadata": {
        "colab": {
          "base_uri": "https://localhost:8080/"
        },
        "id": "tFWIELhkltFA",
        "outputId": "ed63220f-76fe-48ac-fca8-d14d7b0ce441"
      },
      "execution_count": null,
      "outputs": [
        {
          "output_type": "execute_result",
          "data": {
            "text/plain": [
              "0.7717890341381318"
            ]
          },
          "metadata": {},
          "execution_count": 65
        }
      ]
    },
    {
      "cell_type": "markdown",
      "source": [
        "0.08 0.7713451491380238"
      ],
      "metadata": {
        "id": "QT9-4LjR4-RO"
      }
    },
    {
      "cell_type": "markdown",
      "source": [
        "0.07 0.7717890341381318"
      ],
      "metadata": {
        "id": "arZ8YKxH5J2E"
      }
    },
    {
      "cell_type": "code",
      "source": [
        "mse = mean_squared_error(Y_test[2:], y_pred[2:])\n",
        "rmse = mse ** 0.5\n",
        "mape = mean_absolute_percentage_error(Y_test[2:], y_pred[2:])\n",
        "r2 = r2_score(Y_test[2:], y_pred[2:])\n",
        "mae = mean_absolute_error(Y_test[2:], y_pred[2:])"
      ],
      "metadata": {
        "id": "53cuKjr0qD8h"
      },
      "execution_count": null,
      "outputs": []
    },
    {
      "cell_type": "code",
      "source": [
        "mse"
      ],
      "metadata": {
        "colab": {
          "base_uri": "https://localhost:8080/"
        },
        "id": "i5s1zQ9jrvko",
        "outputId": "09898ce9-a405-4540-bbc1-d0e9bc6a3a80"
      },
      "execution_count": null,
      "outputs": [
        {
          "output_type": "execute_result",
          "data": {
            "text/plain": [
              "270.31880369099133"
            ]
          },
          "metadata": {},
          "execution_count": 305
        }
      ]
    },
    {
      "cell_type": "code",
      "source": [
        "rmse"
      ],
      "metadata": {
        "colab": {
          "base_uri": "https://localhost:8080/"
        },
        "id": "ZZCYNlAorvnY",
        "outputId": "bb370d9b-3838-4faa-a7a3-f365b7b3d445"
      },
      "execution_count": null,
      "outputs": [
        {
          "output_type": "execute_result",
          "data": {
            "text/plain": [
              "16.441374750640268"
            ]
          },
          "metadata": {},
          "execution_count": 306
        }
      ]
    },
    {
      "cell_type": "code",
      "source": [
        "100 * np.mean(np.abs((Y_test[2:] - y_pred[2:]))/Y_test[2:])"
      ],
      "metadata": {
        "colab": {
          "base_uri": "https://localhost:8080/"
        },
        "id": "YOSjLa4Qrvpr",
        "outputId": "00b793e5-002c-4c79-e51b-dd10ee27c679"
      },
      "execution_count": null,
      "outputs": [
        {
          "output_type": "execute_result",
          "data": {
            "text/plain": [
              "20.22942707291377"
            ]
          },
          "metadata": {},
          "execution_count": 310
        }
      ]
    },
    {
      "cell_type": "code",
      "source": [
        "r2"
      ],
      "metadata": {
        "colab": {
          "base_uri": "https://localhost:8080/"
        },
        "id": "RhyO7_9Srvs0",
        "outputId": "3efbed9d-365b-4f4a-993e-791409e01850"
      },
      "execution_count": null,
      "outputs": [
        {
          "output_type": "execute_result",
          "data": {
            "text/plain": [
              "0.7717616451064444"
            ]
          },
          "metadata": {},
          "execution_count": 308
        }
      ]
    },
    {
      "cell_type": "code",
      "source": [
        "mae"
      ],
      "metadata": {
        "colab": {
          "base_uri": "https://localhost:8080/"
        },
        "id": "eotb_j_Gr01e",
        "outputId": "8f07491d-49d4-40d9-c791-63a106f33211"
      },
      "execution_count": null,
      "outputs": [
        {
          "output_type": "execute_result",
          "data": {
            "text/plain": [
              "11.467912142958983"
            ]
          },
          "metadata": {},
          "execution_count": 309
        }
      ]
    },
    {
      "cell_type": "code",
      "source": [
        "y_pred = pd.DataFrame(y_pred)"
      ],
      "metadata": {
        "id": "c2dLGFV3ETH6"
      },
      "execution_count": null,
      "outputs": []
    },
    {
      "cell_type": "code",
      "source": [
        "y_pred.to_csv('ret_SVR_final.csv')"
      ],
      "metadata": {
        "id": "-0EqYjgfEahq"
      },
      "execution_count": null,
      "outputs": []
    },
    {
      "cell_type": "markdown",
      "source": [
        "returns\n",
        "\n",
        "mse\n",
        "270.31880369099133\n",
        "\n",
        "rmse\n",
        "16.441374750640268\n",
        "\n",
        "mape\n",
        "20.22942707291377\n",
        "\n",
        "r2\n",
        "0.7717616451064444\n",
        "\n",
        "mae\n",
        "11.467912142958983"
      ],
      "metadata": {
        "id": "e1VTVK6g0aba"
      }
    },
    {
      "cell_type": "code",
      "source": [
        "Y_test = Y_test.reset_index(drop=True)"
      ],
      "metadata": {
        "id": "0EL7e5-JpUTe"
      },
      "execution_count": null,
      "outputs": []
    },
    {
      "cell_type": "code",
      "source": [
        "Y_test"
      ],
      "metadata": {
        "colab": {
          "base_uri": "https://localhost:8080/"
        },
        "id": "F_3bJjb6qY7e",
        "outputId": "705d8ab9-f69c-4b51-acad-11962359dec3"
      },
      "execution_count": null,
      "outputs": [
        {
          "output_type": "execute_result",
          "data": {
            "text/plain": [
              "0      -10.70\n",
              "1        2.31\n",
              "2        2.36\n",
              "3      -12.82\n",
              "4       18.94\n",
              "        ...  \n",
              "686    -12.11\n",
              "687   -104.77\n",
              "688     80.53\n",
              "689    -32.99\n",
              "690     45.75\n",
              "Name: ret, Length: 691, dtype: float64"
            ]
          },
          "metadata": {},
          "execution_count": 79
        }
      ]
    },
    {
      "cell_type": "code",
      "source": [
        "yyy = dataset['CLOSE'][-692:]"
      ],
      "metadata": {
        "id": "WHo8B9CvqRqs"
      },
      "execution_count": null,
      "outputs": []
    },
    {
      "cell_type": "code",
      "source": [
        "y_pred_naive = y_pred_naive.reset_index(drop=True)"
      ],
      "metadata": {
        "id": "bqaN-OEmq0Gv"
      },
      "execution_count": null,
      "outputs": []
    },
    {
      "cell_type": "code",
      "source": [
        "(yyy[3454] - yyy[2764])/yyy[2764]"
      ],
      "metadata": {
        "colab": {
          "base_uri": "https://localhost:8080/"
        },
        "id": "N5IMSEZks4pF",
        "outputId": "49092543-c560-4367-bfb8-b1cda26d9659"
      },
      "execution_count": null,
      "outputs": [
        {
          "output_type": "execute_result",
          "data": {
            "text/plain": [
              "0.5962837700836192"
            ]
          },
          "metadata": {},
          "execution_count": 107
        }
      ]
    },
    {
      "cell_type": "code",
      "source": [
        "y_pred_naive = yyy.shift(-1)[1:-1]"
      ],
      "metadata": {
        "id": "6E1Y6T9UwE5o"
      },
      "execution_count": null,
      "outputs": []
    },
    {
      "cell_type": "code",
      "source": [
        "Y_test"
      ],
      "metadata": {
        "colab": {
          "base_uri": "https://localhost:8080/"
        },
        "id": "oVaZwlEtxXkm",
        "outputId": "3122e8b7-66b3-464b-b92d-f77b9ff9e485"
      },
      "execution_count": null,
      "outputs": [
        {
          "output_type": "execute_result",
          "data": {
            "text/plain": [
              "0      -10.70\n",
              "1        2.31\n",
              "2        2.36\n",
              "3      -12.82\n",
              "4       18.94\n",
              "        ...  \n",
              "686    -12.11\n",
              "687   -104.77\n",
              "688     80.53\n",
              "689    -32.99\n",
              "690     45.75\n",
              "Name: ret, Length: 691, dtype: float64"
            ]
          },
          "metadata": {},
          "execution_count": 144
        }
      ]
    },
    {
      "cell_type": "code",
      "source": [
        "profit_naive = 0\n",
        "profit_hist_naive = []\n",
        "profitability_naive = 0\n",
        "profitability_hist_naive = []\n",
        "for i in range(690):\n",
        "  if y_pred_naive[i] > 0:\n",
        "    profit_naive += Y_test[i+1]\n",
        "    profit_hist_naive.append(profit_naive)\n",
        "    profitability_naive += Y_test[i+1]/yyy[2764+i]\n",
        "    profitability_hist_naive.append(profitability_naive)\n",
        "  if y_pred_naive[i] < 0:\n",
        "    profit_naive -= Y_test[i+1]\n",
        "    profit_hist_naive.append(profit_naive)\n",
        "    profitability_naive -= Y_test[i+1]/yyy[2764+i]\n",
        "    profitability_hist_naive.append(profitability_naive)"
      ],
      "metadata": {
        "id": "yO8bMaVtwb7r"
      },
      "execution_count": null,
      "outputs": []
    },
    {
      "cell_type": "code",
      "source": [
        "profitability_naive"
      ],
      "metadata": {
        "colab": {
          "base_uri": "https://localhost:8080/"
        },
        "id": "hBB9wOEyxC0G",
        "outputId": "ebe1f76f-122c-40f0-ca12-b31726c2c720"
      },
      "execution_count": null,
      "outputs": [
        {
          "output_type": "execute_result",
          "data": {
            "text/plain": [
              "0.5164172565625768"
            ]
          },
          "metadata": {},
          "execution_count": 147
        }
      ]
    },
    {
      "cell_type": "code",
      "source": [
        "profit = 0\n",
        "profit_hist = []\n",
        "profitability = 0\n",
        "profitability_hist = []\n",
        "for i in range(691):\n",
        "  if y_pred[i] > 0:\n",
        "    profit += Y_test[i]\n",
        "    profit_hist.append(profit)\n",
        "    profitability += Y_test[i]/yyy[2763+i]\n",
        "    profitability_hist.append(profitability)\n",
        "  if y_pred[i] < 0:\n",
        "    profit -= Y_test[i]\n",
        "    profit_hist.append(profit)\n",
        "    profitability -= Y_test[i]/yyy[2763+i]\n",
        "    profitability_hist.append(profitability)"
      ],
      "metadata": {
        "id": "n9E8l9PsoC4-"
      },
      "execution_count": null,
      "outputs": []
    },
    {
      "cell_type": "code",
      "source": [
        "profitability"
      ],
      "metadata": {
        "colab": {
          "base_uri": "https://localhost:8080/"
        },
        "id": "uL0lnWQNsNm8",
        "outputId": "531bacae-f17e-4f40-c2b0-6c72434cec7f"
      },
      "execution_count": null,
      "outputs": [
        {
          "output_type": "execute_result",
          "data": {
            "text/plain": [
              "5.09618404495609"
            ]
          },
          "metadata": {},
          "execution_count": 101
        }
      ]
    },
    {
      "cell_type": "code",
      "source": [
        "profit"
      ],
      "metadata": {
        "colab": {
          "base_uri": "https://localhost:8080/"
        },
        "id": "gSkhlgqtpwHX",
        "outputId": "3a134891-edb4-4293-e0b8-5356f0d3537e"
      },
      "execution_count": null,
      "outputs": [
        {
          "output_type": "execute_result",
          "data": {
            "text/plain": [
              "15593.399999999992"
            ]
          },
          "metadata": {},
          "execution_count": 102
        }
      ]
    },
    {
      "cell_type": "code",
      "source": [
        "profitability_hist = pd.DataFrame(profitability_hist)"
      ],
      "metadata": {
        "id": "YmD1BHu-sw1e"
      },
      "execution_count": null,
      "outputs": []
    },
    {
      "cell_type": "code",
      "source": [
        "profitability_hist.plot()"
      ],
      "metadata": {
        "colab": {
          "base_uri": "https://localhost:8080/",
          "height": 283
        },
        "id": "ik1zOY2s2wJo",
        "outputId": "65959ca9-8573-40b9-89c2-5601b58dd4f8"
      },
      "execution_count": null,
      "outputs": [
        {
          "output_type": "execute_result",
          "data": {
            "text/plain": [
              "<matplotlib.axes._subplots.AxesSubplot at 0x7f7db6a13b50>"
            ]
          },
          "metadata": {},
          "execution_count": 173
        },
        {
          "output_type": "display_data",
          "data": {
            "text/plain": [
              "<Figure size 432x288 with 1 Axes>"
            ],
            "image/png": "[encoded data removed]"
          },
          "metadata": {
            "needs_background": "light"
          }
        }
      ]
    },
    {
      "cell_type": "code",
      "source": [
        "2465.94/profitability_hist[0][0]"
      ],
      "metadata": {
        "colab": {
          "base_uri": "https://localhost:8080/"
        },
        "id": "00HfsPIIurZ8",
        "outputId": "9c0cffb9-2bda-43ce-9663-1ffa1a7389f6"
      },
      "execution_count": null,
      "outputs": [
        {
          "output_type": "execute_result",
          "data": {
            "text/plain": [
              "570770.62071029"
            ]
          },
          "metadata": {},
          "execution_count": 112
        }
      ]
    },
    {
      "cell_type": "code",
      "source": [
        "plpl = profitability_hist * 570770.62071029"
      ],
      "metadata": {
        "id": "nzhwd6ACuJfj"
      },
      "execution_count": null,
      "outputs": []
    },
    {
      "cell_type": "code",
      "source": [
        "plpl"
      ],
      "metadata": {
        "colab": {
          "base_uri": "https://localhost:8080/",
          "height": 423
        },
        "id": "eomP-GE2u3eQ",
        "outputId": "79fa9a01-fddd-430a-9e4e-39a1ff7f280e"
      },
      "execution_count": null,
      "outputs": [
        {
          "output_type": "execute_result",
          "data": {
            "text/plain": [
              "                0\n",
              "0    2.465940e+03\n",
              "1    3.000616e+03\n",
              "2    2.454878e+03\n",
              "3    5.416608e+03\n",
              "4    9.815029e+03\n",
              "..            ...\n",
              "686  2.870133e+06\n",
              "687  2.885281e+06\n",
              "688  2.897241e+06\n",
              "689  2.902040e+06\n",
              "690  2.908752e+06\n",
              "\n",
              "[691 rows x 1 columns]"
            ],
            "text/html": [
              "\n",
              "  <div id=\"df-f5ceb0ec-094b-462e-aba9-9dca82839949\">\n",
              "    <div class=\"colab-df-container\">\n",
              "      <div>\n",
              "<style scoped>\n",
              "    .dataframe tbody tr th:only-of-type {\n",
              "        vertical-align: middle;\n",
              "    }\n",
              "\n",
              "    .dataframe tbody tr th {\n",
              "        vertical-align: top;\n",
              "    }\n",
              "\n",
              "    .dataframe thead th {\n",
              "        text-align: right;\n",
              "    }\n",
              "</style>\n",
              "<table border=\"1\" class=\"dataframe\">\n",
              "  <thead>\n",
              "    <tr style=\"text-align: right;\">\n",
              "      <th></th>\n",
              "      <th>0</th>\n",
              "    </tr>\n",
              "  </thead>\n",
              "  <tbody>\n",
              "    <tr>\n",
              "      <th>0</th>\n",
              "      <td>2.465940e+03</td>\n",
              "    </tr>\n",
              "    <tr>\n",
              "      <th>1</th>\n",
              "      <td>3.000616e+03</td>\n",
              "    </tr>\n",
              "    <tr>\n",
              "      <th>2</th>\n",
              "      <td>2.454878e+03</td>\n",
              "    </tr>\n",
              "    <tr>\n",
              "      <th>3</th>\n",
              "      <td>5.416608e+03</td>\n",
              "    </tr>\n",
              "    <tr>\n",
              "      <th>4</th>\n",
              "      <td>9.815029e+03</td>\n",
              "    </tr>\n",
              "    <tr>\n",
              "      <th>...</th>\n",
              "      <td>...</td>\n",
              "    </tr>\n",
              "    <tr>\n",
              "      <th>686</th>\n",
              "      <td>2.870133e+06</td>\n",
              "    </tr>\n",
              "    <tr>\n",
              "      <th>687</th>\n",
              "      <td>2.885281e+06</td>\n",
              "    </tr>\n",
              "    <tr>\n",
              "      <th>688</th>\n",
              "      <td>2.897241e+06</td>\n",
              "    </tr>\n",
              "    <tr>\n",
              "      <th>689</th>\n",
              "      <td>2.902040e+06</td>\n",
              "    </tr>\n",
              "    <tr>\n",
              "      <th>690</th>\n",
              "      <td>2.908752e+06</td>\n",
              "    </tr>\n",
              "  </tbody>\n",
              "</table>\n",
              "<p>691 rows × 1 columns</p>\n",
              "</div>\n",
              "      <button class=\"colab-df-convert\" onclick=\"convertToInteractive('df-f5ceb0ec-094b-462e-aba9-9dca82839949')\"\n",
              "              title=\"Convert this dataframe to an interactive table.\"\n",
              "              style=\"display:none;\">\n",
              "        \n",
              "  <svg xmlns=\"http://www.w3.org/2000/svg\" height=\"24px\"viewBox=\"0 0 24 24\"\n",
              "       width=\"24px\">\n",
              "    <path d=\"M0 0h24v24H0V0z\" fill=\"none\"/>\n",
              "    <path d=\"M18.56 5.44l.94 2.06.94-2.06 2.06-.94-2.06-.94-.94-2.06-.94 2.06-2.06.94zm-11 1L8.5 8.5l.94-2.06 2.06-.94-2.06-.94L8.5 2.5l-.94 2.06-2.06.94zm10 10l.94 2.06.94-2.06 2.06-.94-2.06-.94-.94-2.06-.94 2.06-2.06.94z\"/><path d=\"M17.41 7.96l-1.37-1.37c-.4-.4-.92-.59-1.43-.59-.52 0-1.04.2-1.43.59L10.3 9.45l-7.72 7.72c-.78.78-.78 2.05 0 2.83L4 21.41c.39.39.9.59 1.41.59.51 0 1.02-.2 1.41-.59l7.78-7.78 2.81-2.81c.8-.78.8-2.07 0-2.86zM5.41 20L4 18.59l7.72-7.72 1.47 1.35L5.41 20z\"/>\n",
              "  </svg>\n",
              "      </button>\n",
              "      \n",
              "  <style>\n",
              "    .colab-df-container {\n",
              "      display:flex;\n",
              "      flex-wrap:wrap;\n",
              "      gap: 12px;\n",
              "    }\n",
              "\n",
              "    .colab-df-convert {\n",
              "      background-color: #E8F0FE;\n",
              "      border: none;\n",
              "      border-radius: 50%;\n",
              "      cursor: pointer;\n",
              "      display: none;\n",
              "      fill: #1967D2;\n",
              "      height: 32px;\n",
              "      padding: 0 0 0 0;\n",
              "      width: 32px;\n",
              "    }\n",
              "\n",
              "    .colab-df-convert:hover {\n",
              "      background-color: #E2EBFA;\n",
              "      box-shadow: 0px 1px 2px rgba(60, 64, 67, 0.3), 0px 1px 3px 1px rgba(60, 64, 67, 0.15);\n",
              "      fill: #174EA6;\n",
              "    }\n",
              "\n",
              "    [theme=dark] .colab-df-convert {\n",
              "      background-color: #3B4455;\n",
              "      fill: #D2E3FC;\n",
              "    }\n",
              "\n",
              "    [theme=dark] .colab-df-convert:hover {\n",
              "      background-color: #434B5C;\n",
              "      box-shadow: 0px 1px 3px 1px rgba(0, 0, 0, 0.15);\n",
              "      filter: drop-shadow(0px 1px 2px rgba(0, 0, 0, 0.3));\n",
              "      fill: #FFFFFF;\n",
              "    }\n",
              "  </style>\n",
              "\n",
              "      <script>\n",
              "        const buttonEl =\n",
              "          document.querySelector('#df-f5ceb0ec-094b-462e-aba9-9dca82839949 button.colab-df-convert');\n",
              "        buttonEl.style.display =\n",
              "          google.colab.kernel.accessAllowed ? 'block' : 'none';\n",
              "\n",
              "        async function convertToInteractive(key) {\n",
              "          const element = document.querySelector('#df-f5ceb0ec-094b-462e-aba9-9dca82839949');\n",
              "          const dataTable =\n",
              "            await google.colab.kernel.invokeFunction('convertToInteractive',\n",
              "                                                     [key], {});\n",
              "          if (!dataTable) return;\n",
              "\n",
              "          const docLinkHtml = 'Like what you see? Visit the ' +\n",
              "            '<a target=\"_blank\" href=https://colab.research.google.com/notebooks/data_table.ipynb>data table notebook</a>'\n",
              "            + ' to learn more about interactive tables.';\n",
              "          element.innerHTML = '';\n",
              "          dataTable['output_type'] = 'display_data';\n",
              "          await google.colab.output.renderOutput(dataTable, element);\n",
              "          const docLink = document.createElement('div');\n",
              "          docLink.innerHTML = docLinkHtml;\n",
              "          element.appendChild(docLink);\n",
              "        }\n",
              "      </script>\n",
              "    </div>\n",
              "  </div>\n",
              "  "
            ]
          },
          "metadata": {},
          "execution_count": 117
        }
      ]
    },
    {
      "cell_type": "code",
      "source": [
        "profit_hist.diff()"
      ],
      "metadata": {
        "colab": {
          "base_uri": "https://localhost:8080/",
          "height": 423
        },
        "id": "CnMe8Bj4sz_R",
        "outputId": "9607b550-57d7-42ca-a622-9dc8ffee0d53"
      },
      "execution_count": null,
      "outputs": [
        {
          "output_type": "execute_result",
          "data": {
            "text/plain": [
              "          0\n",
              "0       NaN\n",
              "1      2.31\n",
              "2     -2.36\n",
              "3     12.82\n",
              "4     18.94\n",
              "..      ...\n",
              "686  -12.11\n",
              "687  104.77\n",
              "688   80.53\n",
              "689   32.99\n",
              "690   45.75\n",
              "\n",
              "[691 rows x 1 columns]"
            ],
            "text/html": [
              "\n",
              "  <div id=\"df-76cd3f89-4cdb-4b5e-8365-557f8ee7e7e8\">\n",
              "    <div class=\"colab-df-container\">\n",
              "      <div>\n",
              "<style scoped>\n",
              "    .dataframe tbody tr th:only-of-type {\n",
              "        vertical-align: middle;\n",
              "    }\n",
              "\n",
              "    .dataframe tbody tr th {\n",
              "        vertical-align: top;\n",
              "    }\n",
              "\n",
              "    .dataframe thead th {\n",
              "        text-align: right;\n",
              "    }\n",
              "</style>\n",
              "<table border=\"1\" class=\"dataframe\">\n",
              "  <thead>\n",
              "    <tr style=\"text-align: right;\">\n",
              "      <th></th>\n",
              "      <th>0</th>\n",
              "    </tr>\n",
              "  </thead>\n",
              "  <tbody>\n",
              "    <tr>\n",
              "      <th>0</th>\n",
              "      <td>NaN</td>\n",
              "    </tr>\n",
              "    <tr>\n",
              "      <th>1</th>\n",
              "      <td>2.31</td>\n",
              "    </tr>\n",
              "    <tr>\n",
              "      <th>2</th>\n",
              "      <td>-2.36</td>\n",
              "    </tr>\n",
              "    <tr>\n",
              "      <th>3</th>\n",
              "      <td>12.82</td>\n",
              "    </tr>\n",
              "    <tr>\n",
              "      <th>4</th>\n",
              "      <td>18.94</td>\n",
              "    </tr>\n",
              "    <tr>\n",
              "      <th>...</th>\n",
              "      <td>...</td>\n",
              "    </tr>\n",
              "    <tr>\n",
              "      <th>686</th>\n",
              "      <td>-12.11</td>\n",
              "    </tr>\n",
              "    <tr>\n",
              "      <th>687</th>\n",
              "      <td>104.77</td>\n",
              "    </tr>\n",
              "    <tr>\n",
              "      <th>688</th>\n",
              "      <td>80.53</td>\n",
              "    </tr>\n",
              "    <tr>\n",
              "      <th>689</th>\n",
              "      <td>32.99</td>\n",
              "    </tr>\n",
              "    <tr>\n",
              "      <th>690</th>\n",
              "      <td>45.75</td>\n",
              "    </tr>\n",
              "  </tbody>\n",
              "</table>\n",
              "<p>691 rows × 1 columns</p>\n",
              "</div>\n",
              "      <button class=\"colab-df-convert\" onclick=\"convertToInteractive('df-76cd3f89-4cdb-4b5e-8365-557f8ee7e7e8')\"\n",
              "              title=\"Convert this dataframe to an interactive table.\"\n",
              "              style=\"display:none;\">\n",
              "        \n",
              "  <svg xmlns=\"http://www.w3.org/2000/svg\" height=\"24px\"viewBox=\"0 0 24 24\"\n",
              "       width=\"24px\">\n",
              "    <path d=\"M0 0h24v24H0V0z\" fill=\"none\"/>\n",
              "    <path d=\"M18.56 5.44l.94 2.06.94-2.06 2.06-.94-2.06-.94-.94-2.06-.94 2.06-2.06.94zm-11 1L8.5 8.5l.94-2.06 2.06-.94-2.06-.94L8.5 2.5l-.94 2.06-2.06.94zm10 10l.94 2.06.94-2.06 2.06-.94-2.06-.94-.94-2.06-.94 2.06-2.06.94z\"/><path d=\"M17.41 7.96l-1.37-1.37c-.4-.4-.92-.59-1.43-.59-.52 0-1.04.2-1.43.59L10.3 9.45l-7.72 7.72c-.78.78-.78 2.05 0 2.83L4 21.41c.39.39.9.59 1.41.59.51 0 1.02-.2 1.41-.59l7.78-7.78 2.81-2.81c.8-.78.8-2.07 0-2.86zM5.41 20L4 18.59l7.72-7.72 1.47 1.35L5.41 20z\"/>\n",
              "  </svg>\n",
              "      </button>\n",
              "      \n",
              "  <style>\n",
              "    .colab-df-container {\n",
              "      display:flex;\n",
              "      flex-wrap:wrap;\n",
              "      gap: 12px;\n",
              "    }\n",
              "\n",
              "    .colab-df-convert {\n",
              "      background-color: #E8F0FE;\n",
              "      border: none;\n",
              "      border-radius: 50%;\n",
              "      cursor: pointer;\n",
              "      display: none;\n",
              "      fill: #1967D2;\n",
              "      height: 32px;\n",
              "      padding: 0 0 0 0;\n",
              "      width: 32px;\n",
              "    }\n",
              "\n",
              "    .colab-df-convert:hover {\n",
              "      background-color: #E2EBFA;\n",
              "      box-shadow: 0px 1px 2px rgba(60, 64, 67, 0.3), 0px 1px 3px 1px rgba(60, 64, 67, 0.15);\n",
              "      fill: #174EA6;\n",
              "    }\n",
              "\n",
              "    [theme=dark] .colab-df-convert {\n",
              "      background-color: #3B4455;\n",
              "      fill: #D2E3FC;\n",
              "    }\n",
              "\n",
              "    [theme=dark] .colab-df-convert:hover {\n",
              "      background-color: #434B5C;\n",
              "      box-shadow: 0px 1px 3px 1px rgba(0, 0, 0, 0.15);\n",
              "      filter: drop-shadow(0px 1px 2px rgba(0, 0, 0, 0.3));\n",
              "      fill: #FFFFFF;\n",
              "    }\n",
              "  </style>\n",
              "\n",
              "      <script>\n",
              "        const buttonEl =\n",
              "          document.querySelector('#df-76cd3f89-4cdb-4b5e-8365-557f8ee7e7e8 button.colab-df-convert');\n",
              "        buttonEl.style.display =\n",
              "          google.colab.kernel.accessAllowed ? 'block' : 'none';\n",
              "\n",
              "        async function convertToInteractive(key) {\n",
              "          const element = document.querySelector('#df-76cd3f89-4cdb-4b5e-8365-557f8ee7e7e8');\n",
              "          const dataTable =\n",
              "            await google.colab.kernel.invokeFunction('convertToInteractive',\n",
              "                                                     [key], {});\n",
              "          if (!dataTable) return;\n",
              "\n",
              "          const docLinkHtml = 'Like what you see? Visit the ' +\n",
              "            '<a target=\"_blank\" href=https://colab.research.google.com/notebooks/data_table.ipynb>data table notebook</a>'\n",
              "            + ' to learn more about interactive tables.';\n",
              "          element.innerHTML = '';\n",
              "          dataTable['output_type'] = 'display_data';\n",
              "          await google.colab.output.renderOutput(dataTable, element);\n",
              "          const docLink = document.createElement('div');\n",
              "          docLink.innerHTML = docLinkHtml;\n",
              "          element.appendChild(docLink);\n",
              "        }\n",
              "      </script>\n",
              "    </div>\n",
              "  </div>\n",
              "  "
            ]
          },
          "metadata": {},
          "execution_count": 153
        }
      ]
    },
    {
      "cell_type": "code",
      "source": [
        "df = pd.DataFrame()"
      ],
      "metadata": {
        "id": "z4PnjzgOtp06"
      },
      "execution_count": null,
      "outputs": []
    },
    {
      "cell_type": "code",
      "source": [
        "df['MOEX'] = dataset['CLOSE'][-691:]"
      ],
      "metadata": {
        "id": "i8sudaIettJ7"
      },
      "execution_count": null,
      "outputs": []
    },
    {
      "cell_type": "code",
      "source": [
        "df"
      ],
      "metadata": {
        "colab": {
          "base_uri": "https://localhost:8080/",
          "height": 423
        },
        "id": "YcnOvIyXvNKU",
        "outputId": "7775917f-7d7f-41df-bd84-34a28a790579"
      },
      "execution_count": null,
      "outputs": [
        {
          "output_type": "execute_result",
          "data": {
            "text/plain": [
              "         MOEX           SVR\n",
              "2764  2465.94  2.465940e+03\n",
              "2765  2468.25  3.000616e+03\n",
              "2766  2470.61  2.454878e+03\n",
              "2767  2457.79  5.416608e+03\n",
              "2768  2476.73  9.815029e+03\n",
              "...       ...           ...\n",
              "3450  3947.82  2.870133e+06\n",
              "3451  3843.05  2.885281e+06\n",
              "3452  3923.58  2.897241e+06\n",
              "3453  3890.59  2.902040e+06\n",
              "3454  3936.34  2.908752e+06\n",
              "\n",
              "[691 rows x 2 columns]"
            ],
            "text/html": [
              "\n",
              "  <div id=\"df-feea1d41-68b0-43d2-8d98-2cd2f83dda59\">\n",
              "    <div class=\"colab-df-container\">\n",
              "      <div>\n",
              "<style scoped>\n",
              "    .dataframe tbody tr th:only-of-type {\n",
              "        vertical-align: middle;\n",
              "    }\n",
              "\n",
              "    .dataframe tbody tr th {\n",
              "        vertical-align: top;\n",
              "    }\n",
              "\n",
              "    .dataframe thead th {\n",
              "        text-align: right;\n",
              "    }\n",
              "</style>\n",
              "<table border=\"1\" class=\"dataframe\">\n",
              "  <thead>\n",
              "    <tr style=\"text-align: right;\">\n",
              "      <th></th>\n",
              "      <th>MOEX</th>\n",
              "      <th>SVR</th>\n",
              "    </tr>\n",
              "  </thead>\n",
              "  <tbody>\n",
              "    <tr>\n",
              "      <th>2764</th>\n",
              "      <td>2465.94</td>\n",
              "      <td>2.465940e+03</td>\n",
              "    </tr>\n",
              "    <tr>\n",
              "      <th>2765</th>\n",
              "      <td>2468.25</td>\n",
              "      <td>3.000616e+03</td>\n",
              "    </tr>\n",
              "    <tr>\n",
              "      <th>2766</th>\n",
              "      <td>2470.61</td>\n",
              "      <td>2.454878e+03</td>\n",
              "    </tr>\n",
              "    <tr>\n",
              "      <th>2767</th>\n",
              "      <td>2457.79</td>\n",
              "      <td>5.416608e+03</td>\n",
              "    </tr>\n",
              "    <tr>\n",
              "      <th>2768</th>\n",
              "      <td>2476.73</td>\n",
              "      <td>9.815029e+03</td>\n",
              "    </tr>\n",
              "    <tr>\n",
              "      <th>...</th>\n",
              "      <td>...</td>\n",
              "      <td>...</td>\n",
              "    </tr>\n",
              "    <tr>\n",
              "      <th>3450</th>\n",
              "      <td>3947.82</td>\n",
              "      <td>2.870133e+06</td>\n",
              "    </tr>\n",
              "    <tr>\n",
              "      <th>3451</th>\n",
              "      <td>3843.05</td>\n",
              "      <td>2.885281e+06</td>\n",
              "    </tr>\n",
              "    <tr>\n",
              "      <th>3452</th>\n",
              "      <td>3923.58</td>\n",
              "      <td>2.897241e+06</td>\n",
              "    </tr>\n",
              "    <tr>\n",
              "      <th>3453</th>\n",
              "      <td>3890.59</td>\n",
              "      <td>2.902040e+06</td>\n",
              "    </tr>\n",
              "    <tr>\n",
              "      <th>3454</th>\n",
              "      <td>3936.34</td>\n",
              "      <td>2.908752e+06</td>\n",
              "    </tr>\n",
              "  </tbody>\n",
              "</table>\n",
              "<p>691 rows × 2 columns</p>\n",
              "</div>\n",
              "      <button class=\"colab-df-convert\" onclick=\"convertToInteractive('df-feea1d41-68b0-43d2-8d98-2cd2f83dda59')\"\n",
              "              title=\"Convert this dataframe to an interactive table.\"\n",
              "              style=\"display:none;\">\n",
              "        \n",
              "  <svg xmlns=\"http://www.w3.org/2000/svg\" height=\"24px\"viewBox=\"0 0 24 24\"\n",
              "       width=\"24px\">\n",
              "    <path d=\"M0 0h24v24H0V0z\" fill=\"none\"/>\n",
              "    <path d=\"M18.56 5.44l.94 2.06.94-2.06 2.06-.94-2.06-.94-.94-2.06-.94 2.06-2.06.94zm-11 1L8.5 8.5l.94-2.06 2.06-.94-2.06-.94L8.5 2.5l-.94 2.06-2.06.94zm10 10l.94 2.06.94-2.06 2.06-.94-2.06-.94-.94-2.06-.94 2.06-2.06.94z\"/><path d=\"M17.41 7.96l-1.37-1.37c-.4-.4-.92-.59-1.43-.59-.52 0-1.04.2-1.43.59L10.3 9.45l-7.72 7.72c-.78.78-.78 2.05 0 2.83L4 21.41c.39.39.9.59 1.41.59.51 0 1.02-.2 1.41-.59l7.78-7.78 2.81-2.81c.8-.78.8-2.07 0-2.86zM5.41 20L4 18.59l7.72-7.72 1.47 1.35L5.41 20z\"/>\n",
              "  </svg>\n",
              "      </button>\n",
              "      \n",
              "  <style>\n",
              "    .colab-df-container {\n",
              "      display:flex;\n",
              "      flex-wrap:wrap;\n",
              "      gap: 12px;\n",
              "    }\n",
              "\n",
              "    .colab-df-convert {\n",
              "      background-color: #E8F0FE;\n",
              "      border: none;\n",
              "      border-radius: 50%;\n",
              "      cursor: pointer;\n",
              "      display: none;\n",
              "      fill: #1967D2;\n",
              "      height: 32px;\n",
              "      padding: 0 0 0 0;\n",
              "      width: 32px;\n",
              "    }\n",
              "\n",
              "    .colab-df-convert:hover {\n",
              "      background-color: #E2EBFA;\n",
              "      box-shadow: 0px 1px 2px rgba(60, 64, 67, 0.3), 0px 1px 3px 1px rgba(60, 64, 67, 0.15);\n",
              "      fill: #174EA6;\n",
              "    }\n",
              "\n",
              "    [theme=dark] .colab-df-convert {\n",
              "      background-color: #3B4455;\n",
              "      fill: #D2E3FC;\n",
              "    }\n",
              "\n",
              "    [theme=dark] .colab-df-convert:hover {\n",
              "      background-color: #434B5C;\n",
              "      box-shadow: 0px 1px 3px 1px rgba(0, 0, 0, 0.15);\n",
              "      filter: drop-shadow(0px 1px 2px rgba(0, 0, 0, 0.3));\n",
              "      fill: #FFFFFF;\n",
              "    }\n",
              "  </style>\n",
              "\n",
              "      <script>\n",
              "        const buttonEl =\n",
              "          document.querySelector('#df-feea1d41-68b0-43d2-8d98-2cd2f83dda59 button.colab-df-convert');\n",
              "        buttonEl.style.display =\n",
              "          google.colab.kernel.accessAllowed ? 'block' : 'none';\n",
              "\n",
              "        async function convertToInteractive(key) {\n",
              "          const element = document.querySelector('#df-feea1d41-68b0-43d2-8d98-2cd2f83dda59');\n",
              "          const dataTable =\n",
              "            await google.colab.kernel.invokeFunction('convertToInteractive',\n",
              "                                                     [key], {});\n",
              "          if (!dataTable) return;\n",
              "\n",
              "          const docLinkHtml = 'Like what you see? Visit the ' +\n",
              "            '<a target=\"_blank\" href=https://colab.research.google.com/notebooks/data_table.ipynb>data table notebook</a>'\n",
              "            + ' to learn more about interactive tables.';\n",
              "          element.innerHTML = '';\n",
              "          dataTable['output_type'] = 'display_data';\n",
              "          await google.colab.output.renderOutput(dataTable, element);\n",
              "          const docLink = document.createElement('div');\n",
              "          docLink.innerHTML = docLinkHtml;\n",
              "          element.appendChild(docLink);\n",
              "        }\n",
              "      </script>\n",
              "    </div>\n",
              "  </div>\n",
              "  "
            ]
          },
          "metadata": {},
          "execution_count": 125
        }
      ]
    },
    {
      "cell_type": "code",
      "source": [
        "df['SVR'] = np.array(plpl)"
      ],
      "metadata": {
        "id": "vVFhPi6ettNP"
      },
      "execution_count": null,
      "outputs": []
    },
    {
      "cell_type": "code",
      "source": [
        "plt.figure(figsize=(15, 6), dpi=100)\n",
        "  \n",
        "# using plot method to plot open prices.\n",
        "# in plot method we set the label and color of the curve.\n",
        "# df['MOEX'].plot(label='Прирост MOEX', color = 'gray')\n",
        "df['SVR'].plot(label='стратегия по SVR', color = 'gray')\n",
        "  \n",
        "# adding Label to the x-axis\n",
        "plt.xlabel('Периоды')\n",
        "  \n",
        "# adding legend to the curve\n",
        "plt.legend()"
      ],
      "metadata": {
        "colab": {
          "base_uri": "https://localhost:8080/",
          "height": 409
        },
        "id": "FovF9I4WtoUR",
        "outputId": "97e3df1c-44e2-419b-ce37-55d496328bf8"
      },
      "execution_count": null,
      "outputs": [
        {
          "output_type": "execute_result",
          "data": {
            "text/plain": [
              "<matplotlib.legend.Legend at 0x7f7db6b63750>"
            ]
          },
          "metadata": {},
          "execution_count": 127
        },
        {
          "output_type": "display_data",
          "data": {
            "text/plain": [
              "<Figure size 1500x600 with 1 Axes>"
            ],
            "image/png": "[encoded data removed]"
          },
          "metadata": {
            "needs_background": "light"
          }
        }
      ]
    },
    {
      "cell_type": "code",
      "source": [
        "profit_hist = pd.DataFrame(profit_hist)"
      ],
      "metadata": {
        "id": "n149xdkbpx1U"
      },
      "execution_count": null,
      "outputs": []
    },
    {
      "cell_type": "code",
      "source": [
        "profit_hist.plot()"
      ],
      "metadata": {
        "colab": {
          "base_uri": "https://localhost:8080/",
          "height": 283
        },
        "id": "rIrTQWKfp2iQ",
        "outputId": "95dc28a4-9b93-4d99-a986-7b2d3e3aa9ee"
      },
      "execution_count": null,
      "outputs": [
        {
          "output_type": "execute_result",
          "data": {
            "text/plain": [
              "<matplotlib.axes._subplots.AxesSubplot at 0x7f7db7933e50>"
            ]
          },
          "metadata": {},
          "execution_count": 104
        },
        {
          "output_type": "display_data",
          "data": {
            "text/plain": [
              "<Figure size 432x288 with 1 Axes>"
            ],
            "image/png": "[encoded data removed]"
          },
          "metadata": {
            "needs_background": "light"
          }
        }
      ]
    },
    {
      "cell_type": "code",
      "source": [
        "data = dataset[['VOL', 'sma_10', 'roc',\n",
        "       'stoch_k', 'cci', 'rsi', 'MACD_12_26', 'adi']]\n",
        "data['OPEN'] = np.log(dataset['OPEN'])\n",
        "data['HIGH'] = np.log(dataset['HIGH'])\n",
        "data['LOW'] = np.log(dataset['LOW'])\n",
        "data['CLOSE'] = np.log(dataset['CLOSE'])\n",
        "data['usdrub'] = np.log(dataset['usdrub'])\n",
        "data['brent'] = np.log(dataset['brent'])\n",
        "data['cac'] = np.log(dataset['cac'].astype('float64'))\n",
        "data['ftse'] = np.log(dataset['ftse'])\n",
        "data['dedow'] = np.log(dataset['dedow'])\n",
        "data['CLOSE_lag'] = dataset['CLOSE'].shift(1)\n",
        "data['CLOSE_lag2'] = dataset['CLOSE'].shift(2)\n",
        "data['CLOSE_lag3'] = dataset['CLOSE'].shift(3)\n",
        "data['CLOSE_lag4'] = dataset['CLOSE'].shift(4)\n",
        "# data['CLOSE_lag_'] = data['CLOSE_lag'].diff()"
      ],
      "metadata": {
        "id": "7Io6yeHNDsi-"
      },
      "execution_count": null,
      "outputs": []
    },
    {
      "cell_type": "code",
      "source": [
        "data = data[4:]"
      ],
      "metadata": {
        "id": "_jP1rTJuDsmd"
      },
      "execution_count": null,
      "outputs": []
    },
    {
      "cell_type": "code",
      "source": [
        "X=data[['OPEN', 'HIGH', 'LOW', 'VOL', 'brent',\n",
        "        'sma_10', 'roc', 'stoch_k', 'cci', 'rsi', 'MACD_12_26', 'adi',\n",
        "       'cac', 'ftse', 'dedow']]#, 'CLOSE_lag','usdrub', 'CLOSE_lag2', 'CLOSE_lag3', 'CLOSE_lag4']]\n",
        "Y=data['CLOSE']"
      ],
      "metadata": {
        "id": "CufV0AH5D9YS"
      },
      "execution_count": null,
      "outputs": []
    },
    {
      "cell_type": "code",
      "source": [
        "X_train, X_test, Y_train, Y_test = train_test_split(X, Y, shuffle = False, test_size=0.2)"
      ],
      "metadata": {
        "id": "6XaCTuHhEAPS"
      },
      "execution_count": null,
      "outputs": []
    },
    {
      "cell_type": "code",
      "source": [
        "regr = make_pipeline(StandardScaler(), LinearSVR(C=0.1, epsilon=0, random_state=1))\n",
        "regr.fit(X_train, Y_train)\n",
        "y_pred = regr.predict(X_test)\n",
        "r2_score(Y_test, y_pred)"
      ],
      "metadata": {
        "colab": {
          "base_uri": "https://localhost:8080/"
        },
        "id": "FoHD_xmQEASp",
        "outputId": "e2d7c72a-2949-444c-d87c-f21f370129f0"
      },
      "execution_count": null,
      "outputs": [
        {
          "output_type": "stream",
          "name": "stderr",
          "text": [
            "/usr/local/lib/python3.7/dist-packages/sklearn/svm/_base.py:1208: ConvergenceWarning: Liblinear failed to converge, increase the number of iterations.\n",
            "  ConvergenceWarning,\n"
          ]
        },
        {
          "output_type": "execute_result",
          "data": {
            "text/plain": [
              "0.9989809192316061"
            ]
          },
          "metadata": {},
          "execution_count": 557
        }
      ]
    },
    {
      "cell_type": "code",
      "source": [
        "y_pred_n = pd.DataFrame(np.exp(y_pred))"
      ],
      "metadata": {
        "id": "UWLMfXcCJjaX"
      },
      "execution_count": null,
      "outputs": []
    },
    {
      "cell_type": "code",
      "source": [
        "y_pred_n.to_csv('y_pred_SVR_final.csv')"
      ],
      "metadata": {
        "id": "0zg7zEfqJuuM"
      },
      "execution_count": null,
      "outputs": []
    },
    {
      "cell_type": "code",
      "source": [
        "mse = mean_squared_error(np.exp(Y_test[2:]), np.exp(y_pred[2:]))\n",
        "rmse = mse ** 0.5\n",
        "mape = mean_absolute_percentage_error(np.exp(Y_test[2:]), np.exp(y_pred[2:]))\n",
        "r2 = r2_score(np.exp(Y_test[2:]), np.exp(y_pred[2:]))\n",
        "mae = mean_absolute_error(np.exp(Y_test[2:]), np.exp(y_pred[2:]))"
      ],
      "metadata": {
        "id": "T6-YoVxssXmq"
      },
      "execution_count": null,
      "outputs": []
    },
    {
      "cell_type": "code",
      "source": [
        "mse"
      ],
      "metadata": {
        "colab": {
          "base_uri": "https://localhost:8080/"
        },
        "id": "ETbmWhawsqKV",
        "outputId": "690ed649-040e-4ef0-a2a3-7b90b572d393"
      },
      "execution_count": null,
      "outputs": [
        {
          "output_type": "execute_result",
          "data": {
            "text/plain": [
              "206.2098572559508"
            ]
          },
          "metadata": {},
          "execution_count": 559
        }
      ]
    },
    {
      "cell_type": "code",
      "source": [
        "rmse"
      ],
      "metadata": {
        "colab": {
          "base_uri": "https://localhost:8080/"
        },
        "id": "SV9fM2XFsqMy",
        "outputId": "896f3e01-1332-44c4-f6fe-9f16ea41fde5"
      },
      "execution_count": null,
      "outputs": [
        {
          "output_type": "execute_result",
          "data": {
            "text/plain": [
              "14.360008957377108"
            ]
          },
          "metadata": {},
          "execution_count": 560
        }
      ]
    },
    {
      "cell_type": "code",
      "source": [
        "100 * np.mean(np.abs((np.exp(Y_test[2:]) - np.exp(y_pred[2:])))/np.exp(Y_test[2:]))"
      ],
      "metadata": {
        "colab": {
          "base_uri": "https://localhost:8080/"
        },
        "id": "CAuSUoM2sqQN",
        "outputId": "393d0ba8-d1c9-4af5-e939-1de56dec51f5"
      },
      "execution_count": null,
      "outputs": [
        {
          "output_type": "execute_result",
          "data": {
            "text/plain": [
              "0.3161871726478267"
            ]
          },
          "metadata": {},
          "execution_count": 561
        }
      ]
    },
    {
      "cell_type": "code",
      "source": [
        "r2"
      ],
      "metadata": {
        "colab": {
          "base_uri": "https://localhost:8080/"
        },
        "id": "n3wSHVuQp710",
        "outputId": "75d54665-03ab-40ac-9e41-5a61f60eb223"
      },
      "execution_count": null,
      "outputs": [
        {
          "output_type": "execute_result",
          "data": {
            "text/plain": [
              "0.9991959189481086"
            ]
          },
          "metadata": {},
          "execution_count": 562
        }
      ]
    },
    {
      "cell_type": "code",
      "source": [
        "mae"
      ],
      "metadata": {
        "colab": {
          "base_uri": "https://localhost:8080/"
        },
        "id": "VMbFS8kos2Ye",
        "outputId": "f310581c-a3d8-485b-92ac-6cf24ab66074"
      },
      "execution_count": null,
      "outputs": [
        {
          "output_type": "execute_result",
          "data": {
            "text/plain": [
              "9.69616021121151"
            ]
          },
          "metadata": {},
          "execution_count": 563
        }
      ]
    },
    {
      "cell_type": "code",
      "source": [
        ""
      ],
      "metadata": {
        "id": "Y91YUDn56URi"
      },
      "execution_count": null,
      "outputs": []
    },
    {
      "cell_type": "markdown",
      "source": [
        "\n",
        "mse\n",
        "206.2098572559508\n",
        "\n",
        "rmse\n",
        "14.360008957377108\n",
        "\n",
        "mape\n",
        "0.3161871726478267\n",
        "\n",
        "r2\n",
        "0.9991959189481086\n",
        "\n",
        "mae\n",
        "9.69616021121151"
      ],
      "metadata": {
        "id": "NV-jHMmY0QmL"
      }
    },
    {
      "cell_type": "code",
      "source": [
        ""
      ],
      "metadata": {
        "id": "B_Hvrj4Un4T9"
      },
      "execution_count": null,
      "outputs": []
    },
    {
      "cell_type": "code",
      "source": [
        "y_pred.shape"
      ],
      "metadata": {
        "colab": {
          "base_uri": "https://localhost:8080/"
        },
        "id": "0EaUyTL0s4Hb",
        "outputId": "e5b7f0ad-402a-4757-8bc9-cc55a146e16f"
      },
      "execution_count": null,
      "outputs": [
        {
          "output_type": "execute_result",
          "data": {
            "text/plain": [
              "(691,)"
            ]
          },
          "metadata": {},
          "execution_count": 578
        }
      ]
    },
    {
      "cell_type": "code",
      "source": [
        "profit = 0\n",
        "for i in range(691):\n",
        "  if y_pred[i] > 0:\n",
        "    "
      ],
      "metadata": {
        "id": "nBFvVqUnL8Xa"
      },
      "execution_count": null,
      "outputs": []
    },
    {
      "cell_type": "code",
      "source": [
        "lstm = pd.read_csv('res_lstm_checked_day.csv')"
      ],
      "metadata": {
        "id": "oWy9FiNXVdh_"
      },
      "execution_count": null,
      "outputs": []
    },
    {
      "cell_type": "code",
      "source": [
        "lstm = lstm['0']"
      ],
      "metadata": {
        "id": "vn41PSHzV3v6"
      },
      "execution_count": null,
      "outputs": []
    },
    {
      "cell_type": "code",
      "source": [
        "yyy[4:].diff()"
      ],
      "metadata": {
        "colab": {
          "base_uri": "https://localhost:8080/"
        },
        "id": "L-8Tf1c7yZKd",
        "outputId": "ab1e47ba-37e6-49d7-a55e-49d9cc54a645"
      },
      "execution_count": null,
      "outputs": [
        {
          "output_type": "execute_result",
          "data": {
            "text/plain": [
              "2767       NaN\n",
              "2768     18.94\n",
              "2769      6.97\n",
              "2770      9.58\n",
              "2771     10.95\n",
              "         ...  \n",
              "3450    -12.11\n",
              "3451   -104.77\n",
              "3452     80.53\n",
              "3453    -32.99\n",
              "3454     45.75\n",
              "Name: CLOSE, Length: 688, dtype: float64"
            ]
          },
          "metadata": {},
          "execution_count": 159
        }
      ]
    },
    {
      "cell_type": "code",
      "source": [
        "Y_test_l = Y_test[4:]"
      ],
      "metadata": {
        "id": "xlF5m4T4ydU2"
      },
      "execution_count": null,
      "outputs": []
    },
    {
      "cell_type": "code",
      "source": [
        "lstm"
      ],
      "metadata": {
        "colab": {
          "base_uri": "https://localhost:8080/"
        },
        "id": "clzA4_WXa0sI",
        "outputId": "6a0de475-4841-4cd5-9016-366bb24f23d8"
      },
      "execution_count": null,
      "outputs": [
        {
          "output_type": "execute_result",
          "data": {
            "text/plain": [
              "0      20.103535\n",
              "1      14.913623\n",
              "2       4.840059\n",
              "3     -11.213604\n",
              "4     -14.136045\n",
              "         ...    \n",
              "682    46.740166\n",
              "683   -66.431689\n",
              "684    60.551191\n",
              "685    18.366367\n",
              "686    69.647861\n",
              "Name: 0, Length: 687, dtype: float64"
            ]
          },
          "metadata": {},
          "execution_count": 168
        }
      ]
    },
    {
      "cell_type": "code",
      "source": [
        "Y_test[4:]"
      ],
      "metadata": {
        "colab": {
          "base_uri": "https://localhost:8080/"
        },
        "id": "oIMiVNX5z_w0",
        "outputId": "9f7fd894-98f1-4ed8-a328-7414148f6837"
      },
      "execution_count": null,
      "outputs": [
        {
          "output_type": "execute_result",
          "data": {
            "text/plain": [
              "4       18.94\n",
              "5        6.97\n",
              "6        9.58\n",
              "7       10.95\n",
              "8        3.58\n",
              "        ...  \n",
              "686    -12.11\n",
              "687   -104.77\n",
              "688     80.53\n",
              "689    -32.99\n",
              "690     45.75\n",
              "Name: ret, Length: 687, dtype: float64"
            ]
          },
          "metadata": {},
          "execution_count": 167
        }
      ]
    },
    {
      "cell_type": "code",
      "source": [
        "profit_l = 0\n",
        "profit_hist_l = []\n",
        "profitability_l = 0\n",
        "profitability_hist_l = []\n",
        "for i in range(687):\n",
        "  if lstm[i] > 0:\n",
        "    profit_l += Y_test[i+4]\n",
        "    profit_hist_l.append(profit_l)\n",
        "    profitability_l += Y_test[i+4]/yyy[2767+i]\n",
        "    profitability_hist_l.append(profitability_l)\n",
        "  if lstm[i] < 0:\n",
        "    profit_l -= Y_test[i+4]\n",
        "    profit_hist_l.append(profit_l)\n",
        "    profitability_l -= Y_test[i+4]/yyy[2767+i]\n",
        "    profitability_hist_l.append(profitability_l)"
      ],
      "metadata": {
        "id": "R_VHY1v0x0Mp"
      },
      "execution_count": null,
      "outputs": []
    },
    {
      "cell_type": "code",
      "source": [
        "profitability_hist_l = pd.DataFrame(profitability_hist_l)"
      ],
      "metadata": {
        "id": "HeJfdQ_pYObl"
      },
      "execution_count": null,
      "outputs": []
    },
    {
      "cell_type": "code",
      "source": [
        "profitability_hist_l.to_csv('profit_l.csv')"
      ],
      "metadata": {
        "id": "w55oHAsby8Xb"
      },
      "execution_count": null,
      "outputs": []
    },
    {
      "cell_type": "code",
      "source": [
        "mse = mean_squared_error(Y_test[4:], np.exp(lstm))\n",
        "rmse = mse ** 0.5\n",
        "mape = mean_absolute_percentage_error(Y_test[4:], np.exp(lstm))\n",
        "r2 = r2_score(Y_test[4:], np.exp(lstm))\n",
        "mae = mean_absolute_error(Y_test[4:], np.exp(lstm))"
      ],
      "metadata": {
        "id": "o1WXOwktV1w-"
      },
      "execution_count": null,
      "outputs": []
    },
    {
      "cell_type": "code",
      "source": [
        "mse"
      ],
      "metadata": {
        "colab": {
          "base_uri": "https://localhost:8080/"
        },
        "id": "mvSKq80OWPtp",
        "outputId": "1d75a06a-051f-4db1-9fa0-c6592593b49f"
      },
      "execution_count": null,
      "outputs": [
        {
          "output_type": "execute_result",
          "data": {
            "text/plain": [
              "5522.060543519486"
            ]
          },
          "metadata": {},
          "execution_count": 630
        }
      ]
    },
    {
      "cell_type": "code",
      "source": [
        "rmse"
      ],
      "metadata": {
        "colab": {
          "base_uri": "https://localhost:8080/"
        },
        "id": "d5GNud48WQJG",
        "outputId": "f6cb79d6-5776-4c2e-adad-a4e1bcb2e238"
      },
      "execution_count": null,
      "outputs": [
        {
          "output_type": "execute_result",
          "data": {
            "text/plain": [
              "74.31056818191801"
            ]
          },
          "metadata": {},
          "execution_count": 631
        }
      ]
    },
    {
      "cell_type": "code",
      "source": [
        "Y_test"
      ],
      "metadata": {
        "colab": {
          "base_uri": "https://localhost:8080/"
        },
        "id": "1y1ZoRVjjnDJ",
        "outputId": "3ad1cc0a-280a-426f-dd29-aba8fdd34bdb"
      },
      "execution_count": null,
      "outputs": [
        {
          "output_type": "execute_result",
          "data": {
            "text/plain": [
              "2764    -10.70\n",
              "2765      2.31\n",
              "2766      2.36\n",
              "2767    -12.82\n",
              "2768     18.94\n",
              "         ...  \n",
              "3450    -12.11\n",
              "3451   -104.77\n",
              "3452     80.53\n",
              "3453    -32.99\n",
              "3454     45.75\n",
              "Name: ret, Length: 691, dtype: float64"
            ]
          },
          "metadata": {},
          "execution_count": 639
        }
      ]
    },
    {
      "cell_type": "code",
      "source": [
        "lstm = np.exp(lstm)"
      ],
      "metadata": {
        "id": "owwji3Goj61L"
      },
      "execution_count": null,
      "outputs": []
    },
    {
      "cell_type": "code",
      "source": [
        "lstm = lstm-lstm.shift(-1)"
      ],
      "metadata": {
        "id": "mB0HFJm5j9Oq"
      },
      "execution_count": null,
      "outputs": []
    },
    {
      "cell_type": "code",
      "source": [
        "np.abs((Y_test[4:-1] - lstm[:-1]))#/Y_test[4:-1]"
      ],
      "metadata": {
        "colab": {
          "base_uri": "https://localhost:8080/"
        },
        "id": "SXnedhRbkB37",
        "outputId": "f6c2185b-dfd2-4499-c0a9-60a742d4241b"
      },
      "execution_count": null,
      "outputs": [
        {
          "output_type": "execute_result",
          "data": {
            "text/plain": [
              "0      NaN\n",
              "1      NaN\n",
              "2      NaN\n",
              "3      NaN\n",
              "4      NaN\n",
              "        ..\n",
              "3449   NaN\n",
              "3450   NaN\n",
              "3451   NaN\n",
              "3452   NaN\n",
              "3453   NaN\n",
              "Length: 1372, dtype: float64"
            ]
          },
          "metadata": {},
          "execution_count": 647
        }
      ]
    },
    {
      "cell_type": "code",
      "source": [
        "Y_test = Y_test.reset_index(drop=True)"
      ],
      "metadata": {
        "id": "crq2mLcakRnS"
      },
      "execution_count": null,
      "outputs": []
    },
    {
      "cell_type": "code",
      "source": [
        "lstm "
      ],
      "metadata": {
        "colab": {
          "base_uri": "https://localhost:8080/"
        },
        "id": "ogcRySP5kdqm",
        "outputId": "7565cc25-282c-4a9f-ff23-8b8ecdc59ea9"
      },
      "execution_count": null,
      "outputs": [
        {
          "output_type": "execute_result",
          "data": {
            "text/plain": [
              "0     -12.160081\n",
              "1     -19.653565\n",
              "2     -27.003697\n",
              "3      -6.502007\n",
              "4      -1.151279\n",
              "         ...    \n",
              "682    -8.400257\n",
              "683    46.451858\n",
              "684    -9.193343\n",
              "685     5.529455\n",
              "686          NaN\n",
              "Name: 0, Length: 687, dtype: float64"
            ]
          },
          "metadata": {},
          "execution_count": 665
        }
      ]
    },
    {
      "cell_type": "code",
      "source": [
        "100 * np.mean(np.abs((Y_test[4:-1] - lstm[:-1]))/Y_test[4:-1])"
      ],
      "metadata": {
        "colab": {
          "base_uri": "https://localhost:8080/"
        },
        "id": "nk2LEMjdWQ63",
        "outputId": "ed39f1ee-d044-4749-d0e3-d46b05141424"
      },
      "execution_count": null,
      "outputs": [
        {
          "output_type": "execute_result",
          "data": {
            "text/plain": [
              "68.91415416698689"
            ]
          },
          "metadata": {},
          "execution_count": 666
        }
      ]
    },
    {
      "cell_type": "code",
      "source": [
        "r2"
      ],
      "metadata": {
        "colab": {
          "base_uri": "https://localhost:8080/"
        },
        "id": "2LyFL5OCWR_V",
        "outputId": "296a84ab-70f1-411d-e84d-766e7b0f8310"
      },
      "execution_count": null,
      "outputs": [
        {
          "output_type": "execute_result",
          "data": {
            "text/plain": [
              "0.9784194828748897"
            ]
          },
          "metadata": {},
          "execution_count": 628
        }
      ]
    },
    {
      "cell_type": "code",
      "source": [
        "mae"
      ],
      "metadata": {
        "colab": {
          "base_uri": "https://localhost:8080/"
        },
        "id": "CFNsZyDzWSt0",
        "outputId": "89b2918e-809b-4e9c-e079-31ab3de082ec"
      },
      "execution_count": null,
      "outputs": [
        {
          "output_type": "execute_result",
          "data": {
            "text/plain": [
              "56.02281314402735"
            ]
          },
          "metadata": {},
          "execution_count": 629
        }
      ]
    },
    {
      "cell_type": "markdown",
      "source": [
        "\n",
        "mse\n",
        "4160.549620798516\n",
        "\n",
        "rmse\n",
        "64.50232260003136\n",
        "\n",
        "r2\n",
        "-2.50364233751524\n",
        "\n",
        "mae\n",
        "47.90309081320512"
      ],
      "metadata": {
        "id": "8QMOHW6EWuM5"
      }
    },
    {
      "cell_type": "code",
      "source": [
        "mean_absolute_error(Y_test[:-1], Y_test.shift(-1)[:-1])"
      ],
      "metadata": {
        "colab": {
          "base_uri": "https://localhost:8080/"
        },
        "id": "Fd1758W6Wy75",
        "outputId": "c90a7d17-5d6d-4fc8-fbf8-18d20d694621"
      },
      "execution_count": null,
      "outputs": [
        {
          "output_type": "execute_result",
          "data": {
            "text/plain": [
              "34.961840579710156"
            ]
          },
          "metadata": {},
          "execution_count": 601
        }
      ]
    },
    {
      "cell_type": "code",
      "source": [
        "mean_absolute_percentage_error(Y_test[:-1], Y_test.shift(-1)[:-1])"
      ],
      "metadata": {
        "colab": {
          "base_uri": "https://localhost:8080/"
        },
        "id": "qSuD4c0tcfWE",
        "outputId": "d8c4c18a-18d3-4e15-86d5-764f594bc57e"
      },
      "execution_count": null,
      "outputs": [
        {
          "output_type": "execute_result",
          "data": {
            "text/plain": [
              "44.15090574287804"
            ]
          },
          "metadata": {},
          "execution_count": 637
        }
      ]
    },
    {
      "cell_type": "code",
      "source": [
        ""
      ],
      "metadata": {
        "id": "xPZ24_kOcuhl"
      },
      "execution_count": null,
      "outputs": []
    },
    {
      "cell_type": "code",
      "source": [
        "profits = pd.DataFrame(profitability_hist)"
      ],
      "metadata": {
        "id": "Ec5ibPRH1opd"
      },
      "execution_count": null,
      "outputs": []
    },
    {
      "cell_type": "code",
      "source": [
        "profits.to_csv('profit_svr.csv')"
      ],
      "metadata": {
        "id": "PfEEd5Ds210Q"
      },
      "execution_count": null,
      "outputs": []
    }
  ]
}